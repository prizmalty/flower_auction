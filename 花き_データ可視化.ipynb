{
  "nbformat": 4,
  "nbformat_minor": 0,
  "metadata": {
    "colab": {
      "provenance": [],
      "mount_file_id": "1O3EVA1m1YcAj8ScBz_FGUqdVTAccJHnf",
      "authorship_tag": "ABX9TyNH2Wd4g2NBHse0YV+kkIF/",
      "include_colab_link": true
    },
    "kernelspec": {
      "name": "python3",
      "display_name": "Python 3"
    },
    "language_info": {
      "name": "python"
    }
  },
  "cells": [
    {
      "cell_type": "markdown",
      "metadata": {
        "id": "view-in-github",
        "colab_type": "text"
      },
      "source": [
        "<a href=\"https://colab.research.google.com/github/prizmalty/flower_auction/blob/main/%E8%8A%B1%E3%81%8D_%E3%83%87%E3%83%BC%E3%82%BF%E5%8F%AF%E8%A6%96%E5%8C%96.ipynb\" target=\"_parent\"><img src=\"https://colab.research.google.com/assets/colab-badge.svg\" alt=\"Open In Colab\"/></a>"
      ]
    },
    {
      "cell_type": "markdown",
      "source": [
        "# **花き データ可視化**\n"
      ],
      "metadata": {
        "id": "v6xm08_eJcYf"
      }
    },
    {
      "cell_type": "markdown",
      "source": [
        "## pandasのread_csvで読み込む"
      ],
      "metadata": {
        "id": "mm3yU_MSKMOW"
      }
    },
    {
      "cell_type": "code",
      "source": [
        "import numpy as np\n",
        "import pandas as pd"
      ],
      "metadata": {
        "id": "2maTrE2aSL4V"
      },
      "execution_count": null,
      "outputs": []
    },
    {
      "cell_type": "code",
      "source": [
        "dir_path =\"/content/drive/MyDrive/python/kaki/Kak_K0.csv\""
      ],
      "metadata": {
        "id": "KfhiJ0o8Ro7i"
      },
      "execution_count": null,
      "outputs": []
    },
    {
      "cell_type": "code",
      "source": [
        "df = pd.read_csv(dir_path,encoding=\"shift_jis\")\n",
        "df"
      ],
      "metadata": {
        "colab": {
          "base_uri": "https://localhost:8080/",
          "height": 424
        },
        "id": "nRs1I4zHSCja",
        "outputId": "eaea4887-687f-4cce-8efb-4baa9e8e2bfd"
      },
      "execution_count": null,
      "outputs": [
        {
          "output_type": "execute_result",
          "data": {
            "text/plain": [
              "        販売結果（花き　全市場） Unnamed: 1 Unnamed: 2 Unnamed: 3 Unnamed: 4 Unnamed: 5  \\\n",
              "0   令和 4年08月30日(火曜日)        NaN        NaN        NaN        NaN        NaN   \n",
              "1                NaN        NaN        NaN        NaN        NaN        NaN   \n",
              "2           切枝（単位：本）        NaN        NaN        NaN        NaN        NaN   \n",
              "3                 品名      卸売数量計       販売方法       卸売数量        北足立         大田   \n",
              "4             その他の切枝         40         相対         40          -          -   \n",
              "..               ...        ...        ...        ...        ...        ...   \n",
              "74               NaN        NaN       商物分離      10299          -      10299   \n",
              "75                小計      15382      せり・入札       2013        136       1086   \n",
              "76               NaN        NaN         相対       2793        386       2386   \n",
              "77               NaN        NaN      第三者販売        288          -        196   \n",
              "78               NaN        NaN       商物分離      10299          -      10299   \n",
              "\n",
              "   Unnamed: 6 Unnamed: 7 Unnamed: 8  \n",
              "0         NaN        NaN        NaN  \n",
              "1         NaN        NaN        NaN  \n",
              "2         NaN        NaN        NaN  \n",
              "3          板橋         葛西        世田谷  \n",
              "4          40          -          -  \n",
              "..        ...        ...        ...  \n",
              "74          -          -          -  \n",
              "75        764         16         11  \n",
              "76          -          5         16  \n",
              "77          -         92          -  \n",
              "78          -          -          -  \n",
              "\n",
              "[79 rows x 9 columns]"
            ],
            "text/html": [
              "\n",
              "  <div id=\"df-23370729-3b63-4297-800d-676b0a074f3b\">\n",
              "    <div class=\"colab-df-container\">\n",
              "      <div>\n",
              "<style scoped>\n",
              "    .dataframe tbody tr th:only-of-type {\n",
              "        vertical-align: middle;\n",
              "    }\n",
              "\n",
              "    .dataframe tbody tr th {\n",
              "        vertical-align: top;\n",
              "    }\n",
              "\n",
              "    .dataframe thead th {\n",
              "        text-align: right;\n",
              "    }\n",
              "</style>\n",
              "<table border=\"1\" class=\"dataframe\">\n",
              "  <thead>\n",
              "    <tr style=\"text-align: right;\">\n",
              "      <th></th>\n",
              "      <th>販売結果（花き　全市場）</th>\n",
              "      <th>Unnamed: 1</th>\n",
              "      <th>Unnamed: 2</th>\n",
              "      <th>Unnamed: 3</th>\n",
              "      <th>Unnamed: 4</th>\n",
              "      <th>Unnamed: 5</th>\n",
              "      <th>Unnamed: 6</th>\n",
              "      <th>Unnamed: 7</th>\n",
              "      <th>Unnamed: 8</th>\n",
              "    </tr>\n",
              "  </thead>\n",
              "  <tbody>\n",
              "    <tr>\n",
              "      <th>0</th>\n",
              "      <td>令和 4年08月30日(火曜日)</td>\n",
              "      <td>NaN</td>\n",
              "      <td>NaN</td>\n",
              "      <td>NaN</td>\n",
              "      <td>NaN</td>\n",
              "      <td>NaN</td>\n",
              "      <td>NaN</td>\n",
              "      <td>NaN</td>\n",
              "      <td>NaN</td>\n",
              "    </tr>\n",
              "    <tr>\n",
              "      <th>1</th>\n",
              "      <td>NaN</td>\n",
              "      <td>NaN</td>\n",
              "      <td>NaN</td>\n",
              "      <td>NaN</td>\n",
              "      <td>NaN</td>\n",
              "      <td>NaN</td>\n",
              "      <td>NaN</td>\n",
              "      <td>NaN</td>\n",
              "      <td>NaN</td>\n",
              "    </tr>\n",
              "    <tr>\n",
              "      <th>2</th>\n",
              "      <td>切枝（単位：本）</td>\n",
              "      <td>NaN</td>\n",
              "      <td>NaN</td>\n",
              "      <td>NaN</td>\n",
              "      <td>NaN</td>\n",
              "      <td>NaN</td>\n",
              "      <td>NaN</td>\n",
              "      <td>NaN</td>\n",
              "      <td>NaN</td>\n",
              "    </tr>\n",
              "    <tr>\n",
              "      <th>3</th>\n",
              "      <td>品名</td>\n",
              "      <td>卸売数量計</td>\n",
              "      <td>販売方法</td>\n",
              "      <td>卸売数量</td>\n",
              "      <td>北足立</td>\n",
              "      <td>大田</td>\n",
              "      <td>板橋</td>\n",
              "      <td>葛西</td>\n",
              "      <td>世田谷</td>\n",
              "    </tr>\n",
              "    <tr>\n",
              "      <th>4</th>\n",
              "      <td>その他の切枝</td>\n",
              "      <td>40</td>\n",
              "      <td>相対</td>\n",
              "      <td>40</td>\n",
              "      <td>-</td>\n",
              "      <td>-</td>\n",
              "      <td>40</td>\n",
              "      <td>-</td>\n",
              "      <td>-</td>\n",
              "    </tr>\n",
              "    <tr>\n",
              "      <th>...</th>\n",
              "      <td>...</td>\n",
              "      <td>...</td>\n",
              "      <td>...</td>\n",
              "      <td>...</td>\n",
              "      <td>...</td>\n",
              "      <td>...</td>\n",
              "      <td>...</td>\n",
              "      <td>...</td>\n",
              "      <td>...</td>\n",
              "    </tr>\n",
              "    <tr>\n",
              "      <th>74</th>\n",
              "      <td>NaN</td>\n",
              "      <td>NaN</td>\n",
              "      <td>商物分離</td>\n",
              "      <td>10299</td>\n",
              "      <td>-</td>\n",
              "      <td>10299</td>\n",
              "      <td>-</td>\n",
              "      <td>-</td>\n",
              "      <td>-</td>\n",
              "    </tr>\n",
              "    <tr>\n",
              "      <th>75</th>\n",
              "      <td>小計</td>\n",
              "      <td>15382</td>\n",
              "      <td>せり・入札</td>\n",
              "      <td>2013</td>\n",
              "      <td>136</td>\n",
              "      <td>1086</td>\n",
              "      <td>764</td>\n",
              "      <td>16</td>\n",
              "      <td>11</td>\n",
              "    </tr>\n",
              "    <tr>\n",
              "      <th>76</th>\n",
              "      <td>NaN</td>\n",
              "      <td>NaN</td>\n",
              "      <td>相対</td>\n",
              "      <td>2793</td>\n",
              "      <td>386</td>\n",
              "      <td>2386</td>\n",
              "      <td>-</td>\n",
              "      <td>5</td>\n",
              "      <td>16</td>\n",
              "    </tr>\n",
              "    <tr>\n",
              "      <th>77</th>\n",
              "      <td>NaN</td>\n",
              "      <td>NaN</td>\n",
              "      <td>第三者販売</td>\n",
              "      <td>288</td>\n",
              "      <td>-</td>\n",
              "      <td>196</td>\n",
              "      <td>-</td>\n",
              "      <td>92</td>\n",
              "      <td>-</td>\n",
              "    </tr>\n",
              "    <tr>\n",
              "      <th>78</th>\n",
              "      <td>NaN</td>\n",
              "      <td>NaN</td>\n",
              "      <td>商物分離</td>\n",
              "      <td>10299</td>\n",
              "      <td>-</td>\n",
              "      <td>10299</td>\n",
              "      <td>-</td>\n",
              "      <td>-</td>\n",
              "      <td>-</td>\n",
              "    </tr>\n",
              "  </tbody>\n",
              "</table>\n",
              "<p>79 rows × 9 columns</p>\n",
              "</div>\n",
              "      <button class=\"colab-df-convert\" onclick=\"convertToInteractive('df-23370729-3b63-4297-800d-676b0a074f3b')\"\n",
              "              title=\"Convert this dataframe to an interactive table.\"\n",
              "              style=\"display:none;\">\n",
              "        \n",
              "  <svg xmlns=\"http://www.w3.org/2000/svg\" height=\"24px\"viewBox=\"0 0 24 24\"\n",
              "       width=\"24px\">\n",
              "    <path d=\"M0 0h24v24H0V0z\" fill=\"none\"/>\n",
              "    <path d=\"M18.56 5.44l.94 2.06.94-2.06 2.06-.94-2.06-.94-.94-2.06-.94 2.06-2.06.94zm-11 1L8.5 8.5l.94-2.06 2.06-.94-2.06-.94L8.5 2.5l-.94 2.06-2.06.94zm10 10l.94 2.06.94-2.06 2.06-.94-2.06-.94-.94-2.06-.94 2.06-2.06.94z\"/><path d=\"M17.41 7.96l-1.37-1.37c-.4-.4-.92-.59-1.43-.59-.52 0-1.04.2-1.43.59L10.3 9.45l-7.72 7.72c-.78.78-.78 2.05 0 2.83L4 21.41c.39.39.9.59 1.41.59.51 0 1.02-.2 1.41-.59l7.78-7.78 2.81-2.81c.8-.78.8-2.07 0-2.86zM5.41 20L4 18.59l7.72-7.72 1.47 1.35L5.41 20z\"/>\n",
              "  </svg>\n",
              "      </button>\n",
              "      \n",
              "  <style>\n",
              "    .colab-df-container {\n",
              "      display:flex;\n",
              "      flex-wrap:wrap;\n",
              "      gap: 12px;\n",
              "    }\n",
              "\n",
              "    .colab-df-convert {\n",
              "      background-color: #E8F0FE;\n",
              "      border: none;\n",
              "      border-radius: 50%;\n",
              "      cursor: pointer;\n",
              "      display: none;\n",
              "      fill: #1967D2;\n",
              "      height: 32px;\n",
              "      padding: 0 0 0 0;\n",
              "      width: 32px;\n",
              "    }\n",
              "\n",
              "    .colab-df-convert:hover {\n",
              "      background-color: #E2EBFA;\n",
              "      box-shadow: 0px 1px 2px rgba(60, 64, 67, 0.3), 0px 1px 3px 1px rgba(60, 64, 67, 0.15);\n",
              "      fill: #174EA6;\n",
              "    }\n",
              "\n",
              "    [theme=dark] .colab-df-convert {\n",
              "      background-color: #3B4455;\n",
              "      fill: #D2E3FC;\n",
              "    }\n",
              "\n",
              "    [theme=dark] .colab-df-convert:hover {\n",
              "      background-color: #434B5C;\n",
              "      box-shadow: 0px 1px 3px 1px rgba(0, 0, 0, 0.15);\n",
              "      filter: drop-shadow(0px 1px 2px rgba(0, 0, 0, 0.3));\n",
              "      fill: #FFFFFF;\n",
              "    }\n",
              "  </style>\n",
              "\n",
              "      <script>\n",
              "        const buttonEl =\n",
              "          document.querySelector('#df-23370729-3b63-4297-800d-676b0a074f3b button.colab-df-convert');\n",
              "        buttonEl.style.display =\n",
              "          google.colab.kernel.accessAllowed ? 'block' : 'none';\n",
              "\n",
              "        async function convertToInteractive(key) {\n",
              "          const element = document.querySelector('#df-23370729-3b63-4297-800d-676b0a074f3b');\n",
              "          const dataTable =\n",
              "            await google.colab.kernel.invokeFunction('convertToInteractive',\n",
              "                                                     [key], {});\n",
              "          if (!dataTable) return;\n",
              "\n",
              "          const docLinkHtml = 'Like what you see? Visit the ' +\n",
              "            '<a target=\"_blank\" href=https://colab.research.google.com/notebooks/data_table.ipynb>data table notebook</a>'\n",
              "            + ' to learn more about interactive tables.';\n",
              "          element.innerHTML = '';\n",
              "          dataTable['output_type'] = 'display_data';\n",
              "          await google.colab.output.renderOutput(dataTable, element);\n",
              "          const docLink = document.createElement('div');\n",
              "          docLink.innerHTML = docLinkHtml;\n",
              "          element.appendChild(docLink);\n",
              "        }\n",
              "      </script>\n",
              "    </div>\n",
              "  </div>\n",
              "  "
            ]
          },
          "metadata": {},
          "execution_count": 46
        }
      ]
    },
    {
      "cell_type": "markdown",
      "source": [
        "素のpandasで読み込む方法は難しそう"
      ],
      "metadata": {
        "id": "u9_CTzCUKTLa"
      }
    },
    {
      "cell_type": "markdown",
      "source": [
        "##スクレイピングで取得する"
      ],
      "metadata": {
        "id": "GIYaQJX_KGch"
      }
    },
    {
      "cell_type": "code",
      "source": [
        "#モジュールインポート\n",
        "import requests\n",
        "from bs4 import BeautifulSoup\n",
        "from time import sleep\n",
        "import datetime \n",
        "import pandas as pd\n",
        "import re"
      ],
      "metadata": {
        "id": "V863zvd7Kcem"
      },
      "execution_count": null,
      "outputs": []
    },
    {
      "cell_type": "code",
      "source": [
        "today = datetime.date.today()\n",
        "print(today)"
      ],
      "metadata": {
        "colab": {
          "base_uri": "https://localhost:8080/"
        },
        "id": "JvyquSAhFYJm",
        "outputId": "11a138a5-8fe2-497f-8c4f-d8e20c84bd42"
      },
      "execution_count": null,
      "outputs": [
        {
          "output_type": "stream",
          "name": "stdout",
          "text": [
            "2022-09-01\n"
          ]
        }
      ]
    },
    {
      "cell_type": "code",
      "source": [
        "today_str = str(today)\n",
        "today_str"
      ],
      "metadata": {
        "colab": {
          "base_uri": "https://localhost:8080/",
          "height": 34
        },
        "id": "rpJj9m6yHGFH",
        "outputId": "48c8778d-dbd5-4487-862c-eb58400efcfe"
      },
      "execution_count": null,
      "outputs": [
        {
          "output_type": "execute_result",
          "data": {
            "text/plain": [
              "'2022-09-01'"
            ],
            "application/vnd.google.colaboratory.intrinsic+json": {
              "type": "string"
            }
          },
          "metadata": {},
          "execution_count": 4
        }
      ]
    },
    {
      "cell_type": "code",
      "source": [
        "today"
      ],
      "metadata": {
        "colab": {
          "base_uri": "https://localhost:8080/"
        },
        "id": "rn9XoJYJHD5J",
        "outputId": "516aae3f-2664-4ccb-a020-2cbb476055e4"
      },
      "execution_count": null,
      "outputs": [
        {
          "output_type": "execute_result",
          "data": {
            "text/plain": [
              "datetime.date(2022, 9, 1)"
            ]
          },
          "metadata": {},
          "execution_count": 5
        }
      ]
    },
    {
      "cell_type": "code",
      "source": [
        "#URL取得\n",
        "URL=\"https://www.shijou-nippo.metro.tokyo.lg.jp/SN/202208/20220831/Kak/SN_Kak_Zen_index.html\""
      ],
      "metadata": {
        "id": "So3Q7kk-K4gx"
      },
      "execution_count": null,
      "outputs": []
    },
    {
      "cell_type": "code",
      "source": [
        "response=requests.get(URL)\n",
        "response"
      ],
      "metadata": {
        "colab": {
          "base_uri": "https://localhost:8080/"
        },
        "id": "HBxTB5_sK-T9",
        "outputId": "919bea5f-dd7b-4a87-c9d6-56ea4adeb07b"
      },
      "execution_count": null,
      "outputs": [
        {
          "output_type": "execute_result",
          "data": {
            "text/plain": [
              "<Response [200]>"
            ]
          },
          "metadata": {},
          "execution_count": 7
        }
      ]
    },
    {
      "cell_type": "code",
      "source": [
        "!pip install chardet"
      ],
      "metadata": {
        "colab": {
          "base_uri": "https://localhost:8080/"
        },
        "id": "XkcrdVPSRHo3",
        "outputId": "ed13ade4-38d2-4268-b49f-a4a9f45d564b"
      },
      "execution_count": null,
      "outputs": [
        {
          "output_type": "stream",
          "name": "stdout",
          "text": [
            "Looking in indexes: https://pypi.org/simple, https://us-python.pkg.dev/colab-wheels/public/simple/\n",
            "Requirement already satisfied: chardet in /usr/local/lib/python3.7/dist-packages (3.0.4)\n"
          ]
        }
      ]
    },
    {
      "cell_type": "code",
      "source": [
        "soup = BeautifulSoup(response.content, 'html.parser')"
      ],
      "metadata": {
        "id": "nkNA-lmGOQ56"
      },
      "execution_count": null,
      "outputs": []
    },
    {
      "cell_type": "code",
      "source": [
        "table=soup.find_all(\"div\",class_=\"kekka-page-kak-zen\")[2]\n",
        "table"
      ],
      "metadata": {
        "colab": {
          "base_uri": "https://localhost:8080/"
        },
        "id": "sRczok-UNfex",
        "outputId": "82c340ef-6400-426d-efd9-7cc8df04a121"
      },
      "execution_count": null,
      "outputs": [
        {
          "output_type": "execute_result",
          "data": {
            "text/plain": [
              "<div class=\"kekka-page-kak-zen\">\n",
              "<a name=\"BUNRUI2\"></a>\n",
              "<table border=\"1\" bordercolor=\"#999999\" width=\"100%\">\n",
              "<caption class=\"kekka-page-kak-caption\">切葉（単位：枚）</caption>\n",
              "<tr>\n",
              "<th bgcolor=\"#ccccff\" class=\"kekka-page-kak-hinmei-zen\">品名</th>\n",
              "<th bgcolor=\"#ccccff\" class=\"kekka-page-kak-tnum-zen\">卸売数量計</th>\n",
              "<th bgcolor=\"#ccccff\" class=\"kekka-page-kak-hanbai-zen\">販売方法</th>\n",
              "<th bgcolor=\"#ccccff\" class=\"kekka-page-kak-num-zen\">卸売数量</th>\n",
              "<th bgcolor=\"#9999ff\" class=\"kekka-page-kak-num-zen\">北足立</th>\n",
              "<th bgcolor=\"#ccccff\" class=\"kekka-page-kak-num-zen\">大田</th>\n",
              "<th bgcolor=\"#9999ff\" class=\"kekka-page-kak-num-zen\">板橋</th>\n",
              "<th bgcolor=\"#ccccff\" class=\"kekka-page-kak-num-zen\">葛西</th>\n",
              "<th bgcolor=\"#9999ff\" class=\"kekka-page-kak-num-zen\">世田谷</th>\n",
              "</tr>\n",
              "<tr>\n",
              "<td bgcolor=\"#ffffff\" class=\"kekka-page-kak-hinmei-zen\" rowspan=\"3\">そてつ</td>\n",
              "<td bgcolor=\"#ffffff\" class=\"kekka-page-kak-tnum-zen\" nowrap=\"\" rowspan=\"3\">6,685</td>\n",
              "<td bgcolor=\"#ffffff\" class=\"kekka-page-kak-hanbai-zen\">せり・入札</td>\n",
              "<td bgcolor=\"#ffffff\" class=\"kekka-page-kak-num-zen\" nowrap=\"\">800</td>\n",
              "<td bgcolor=\"#ffffcc\" class=\"kekka-page-kak-num-zen\" nowrap=\"\">100</td>\n",
              "<td bgcolor=\"#ffffff\" class=\"kekka-page-kak-num-zen\" nowrap=\"\">500</td>\n",
              "<td bgcolor=\"#ffffcc\" class=\"kekka-page-kak-num-zen\" nowrap=\"\">−</td>\n",
              "<td bgcolor=\"#ffffff\" class=\"kekka-page-kak-num-zen\" nowrap=\"\">200</td>\n",
              "<td bgcolor=\"#ffffcc\" class=\"kekka-page-kak-num-zen\" nowrap=\"\">−</td>\n",
              "</tr>\n",
              "<tr>\n",
              "<td bgcolor=\"#ffffff\" class=\"kekka-page-kak-hanbai-zen\">相対</td>\n",
              "<td bgcolor=\"#ffffff\" class=\"kekka-page-kak-num-zen\" nowrap=\"\">5,845</td>\n",
              "<td bgcolor=\"#ffffcc\" class=\"kekka-page-kak-num-zen\" nowrap=\"\">820</td>\n",
              "<td bgcolor=\"#ffffff\" class=\"kekka-page-kak-num-zen\" nowrap=\"\">4,425</td>\n",
              "<td bgcolor=\"#ffffcc\" class=\"kekka-page-kak-num-zen\" nowrap=\"\">240</td>\n",
              "<td bgcolor=\"#ffffff\" class=\"kekka-page-kak-num-zen\" nowrap=\"\">150</td>\n",
              "<td bgcolor=\"#ffffcc\" class=\"kekka-page-kak-num-zen\" nowrap=\"\">210</td>\n",
              "</tr>\n",
              "<tr>\n",
              "<td bgcolor=\"#ffffff\" class=\"kekka-page-kak-hanbai-zen\">第三者販売</td>\n",
              "<td bgcolor=\"#ffffff\" class=\"kekka-page-kak-num-zen\" nowrap=\"\">40</td>\n",
              "<td bgcolor=\"#ffffcc\" class=\"kekka-page-kak-num-zen\" nowrap=\"\">40</td>\n",
              "<td bgcolor=\"#ffffff\" class=\"kekka-page-kak-num-zen\" nowrap=\"\">−</td>\n",
              "<td bgcolor=\"#ffffcc\" class=\"kekka-page-kak-num-zen\" nowrap=\"\">−</td>\n",
              "<td bgcolor=\"#ffffff\" class=\"kekka-page-kak-num-zen\" nowrap=\"\">−</td>\n",
              "<td bgcolor=\"#ffffcc\" class=\"kekka-page-kak-num-zen\" nowrap=\"\">−</td>\n",
              "</tr>\n",
              "<tr>\n",
              "<td bgcolor=\"#ffffcc\" class=\"kekka-page-kak-hinmei-zen\" rowspan=\"3\">フェニックス</td>\n",
              "<td bgcolor=\"#ffffcc\" class=\"kekka-page-kak-tnum-zen\" nowrap=\"\" rowspan=\"3\">22,890</td>\n",
              "<td bgcolor=\"#ffffcc\" class=\"kekka-page-kak-hanbai-zen\">せり・入札</td>\n",
              "<td bgcolor=\"#ffffcc\" class=\"kekka-page-kak-num-zen\" nowrap=\"\">400</td>\n",
              "<td bgcolor=\"#cccc99\" class=\"kekka-page-kak-num-zen\" nowrap=\"\">−</td>\n",
              "<td bgcolor=\"#ffffcc\" class=\"kekka-page-kak-num-zen\" nowrap=\"\">−</td>\n",
              "<td bgcolor=\"#cccc99\" class=\"kekka-page-kak-num-zen\" nowrap=\"\">−</td>\n",
              "<td bgcolor=\"#ffffcc\" class=\"kekka-page-kak-num-zen\" nowrap=\"\">400</td>\n",
              "<td bgcolor=\"#cccc99\" class=\"kekka-page-kak-num-zen\" nowrap=\"\">−</td>\n",
              "</tr>\n",
              "<tr>\n",
              "<td bgcolor=\"#ffffcc\" class=\"kekka-page-kak-hanbai-zen\">相対</td>\n",
              "<td bgcolor=\"#ffffcc\" class=\"kekka-page-kak-num-zen\" nowrap=\"\">21,890</td>\n",
              "<td bgcolor=\"#cccc99\" class=\"kekka-page-kak-num-zen\" nowrap=\"\">4,000</td>\n",
              "<td bgcolor=\"#ffffcc\" class=\"kekka-page-kak-num-zen\" nowrap=\"\">12,150</td>\n",
              "<td bgcolor=\"#cccc99\" class=\"kekka-page-kak-num-zen\" nowrap=\"\">2,000</td>\n",
              "<td bgcolor=\"#ffffcc\" class=\"kekka-page-kak-num-zen\" nowrap=\"\">600</td>\n",
              "<td bgcolor=\"#cccc99\" class=\"kekka-page-kak-num-zen\" nowrap=\"\">3,140</td>\n",
              "</tr>\n",
              "<tr>\n",
              "<td bgcolor=\"#ffffcc\" class=\"kekka-page-kak-hanbai-zen\">第三者販売</td>\n",
              "<td bgcolor=\"#ffffcc\" class=\"kekka-page-kak-num-zen\" nowrap=\"\">600</td>\n",
              "<td bgcolor=\"#cccc99\" class=\"kekka-page-kak-num-zen\" nowrap=\"\">400</td>\n",
              "<td bgcolor=\"#ffffcc\" class=\"kekka-page-kak-num-zen\" nowrap=\"\">−</td>\n",
              "<td bgcolor=\"#cccc99\" class=\"kekka-page-kak-num-zen\" nowrap=\"\">−</td>\n",
              "<td bgcolor=\"#ffffcc\" class=\"kekka-page-kak-num-zen\" nowrap=\"\">200</td>\n",
              "<td bgcolor=\"#cccc99\" class=\"kekka-page-kak-num-zen\" nowrap=\"\">−</td>\n",
              "</tr>\n",
              "<tr>\n",
              "<td bgcolor=\"#ffffff\" class=\"kekka-page-kak-hinmei-zen\" rowspan=\"3\">レザーファン</td>\n",
              "<td bgcolor=\"#ffffff\" class=\"kekka-page-kak-tnum-zen\" nowrap=\"\" rowspan=\"3\">34,470</td>\n",
              "<td bgcolor=\"#ffffff\" class=\"kekka-page-kak-hanbai-zen\">せり・入札</td>\n",
              "<td bgcolor=\"#ffffff\" class=\"kekka-page-kak-num-zen\" nowrap=\"\">800</td>\n",
              "<td bgcolor=\"#ffffcc\" class=\"kekka-page-kak-num-zen\" nowrap=\"\">−</td>\n",
              "<td bgcolor=\"#ffffff\" class=\"kekka-page-kak-num-zen\" nowrap=\"\">800</td>\n",
              "<td bgcolor=\"#ffffcc\" class=\"kekka-page-kak-num-zen\" nowrap=\"\">−</td>\n",
              "<td bgcolor=\"#ffffff\" class=\"kekka-page-kak-num-zen\" nowrap=\"\">−</td>\n",
              "<td bgcolor=\"#ffffcc\" class=\"kekka-page-kak-num-zen\" nowrap=\"\">−</td>\n",
              "</tr>\n",
              "<tr>\n",
              "<td bgcolor=\"#ffffff\" class=\"kekka-page-kak-hanbai-zen\">相対</td>\n",
              "<td bgcolor=\"#ffffff\" class=\"kekka-page-kak-num-zen\" nowrap=\"\">33,570</td>\n",
              "<td bgcolor=\"#ffffcc\" class=\"kekka-page-kak-num-zen\" nowrap=\"\">3,000</td>\n",
              "<td bgcolor=\"#ffffff\" class=\"kekka-page-kak-num-zen\" nowrap=\"\">22,150</td>\n",
              "<td bgcolor=\"#ffffcc\" class=\"kekka-page-kak-num-zen\" nowrap=\"\">1,740</td>\n",
              "<td bgcolor=\"#ffffff\" class=\"kekka-page-kak-num-zen\" nowrap=\"\">3,600</td>\n",
              "<td bgcolor=\"#ffffcc\" class=\"kekka-page-kak-num-zen\" nowrap=\"\">3,080</td>\n",
              "</tr>\n",
              "<tr>\n",
              "<td bgcolor=\"#ffffff\" class=\"kekka-page-kak-hanbai-zen\">第三者販売</td>\n",
              "<td bgcolor=\"#ffffff\" class=\"kekka-page-kak-num-zen\" nowrap=\"\">100</td>\n",
              "<td bgcolor=\"#ffffcc\" class=\"kekka-page-kak-num-zen\" nowrap=\"\">100</td>\n",
              "<td bgcolor=\"#ffffff\" class=\"kekka-page-kak-num-zen\" nowrap=\"\">−</td>\n",
              "<td bgcolor=\"#ffffcc\" class=\"kekka-page-kak-num-zen\" nowrap=\"\">−</td>\n",
              "<td bgcolor=\"#ffffff\" class=\"kekka-page-kak-num-zen\" nowrap=\"\">−</td>\n",
              "<td bgcolor=\"#ffffcc\" class=\"kekka-page-kak-num-zen\" nowrap=\"\">−</td>\n",
              "</tr>\n",
              "<tr>\n",
              "<td bgcolor=\"#ffffcc\" class=\"kekka-page-kak-hinmei-zen\" rowspan=\"4\">その他の切葉</td>\n",
              "<td bgcolor=\"#ffffcc\" class=\"kekka-page-kak-tnum-zen\" nowrap=\"\" rowspan=\"4\">188,546</td>\n",
              "<td bgcolor=\"#ffffcc\" class=\"kekka-page-kak-hanbai-zen\">せり・入札</td>\n",
              "<td bgcolor=\"#ffffcc\" class=\"kekka-page-kak-num-zen\" nowrap=\"\">38,654</td>\n",
              "<td bgcolor=\"#cccc99\" class=\"kekka-page-kak-num-zen\" nowrap=\"\">2,935</td>\n",
              "<td bgcolor=\"#ffffcc\" class=\"kekka-page-kak-num-zen\" nowrap=\"\">21,734</td>\n",
              "<td bgcolor=\"#cccc99\" class=\"kekka-page-kak-num-zen\" nowrap=\"\">1,660</td>\n",
              "<td bgcolor=\"#ffffcc\" class=\"kekka-page-kak-num-zen\" nowrap=\"\">3,575</td>\n",
              "<td bgcolor=\"#cccc99\" class=\"kekka-page-kak-num-zen\" nowrap=\"\">8,750</td>\n",
              "</tr>\n",
              "<tr>\n",
              "<td bgcolor=\"#ffffcc\" class=\"kekka-page-kak-hanbai-zen\">相対</td>\n",
              "<td bgcolor=\"#ffffcc\" class=\"kekka-page-kak-num-zen\" nowrap=\"\">147,347</td>\n",
              "<td bgcolor=\"#cccc99\" class=\"kekka-page-kak-num-zen\" nowrap=\"\">7,210</td>\n",
              "<td bgcolor=\"#ffffcc\" class=\"kekka-page-kak-num-zen\" nowrap=\"\">101,783</td>\n",
              "<td bgcolor=\"#cccc99\" class=\"kekka-page-kak-num-zen\" nowrap=\"\">11,870</td>\n",
              "<td bgcolor=\"#ffffcc\" class=\"kekka-page-kak-num-zen\" nowrap=\"\">8,155</td>\n",
              "<td bgcolor=\"#cccc99\" class=\"kekka-page-kak-num-zen\" nowrap=\"\">18,329</td>\n",
              "</tr>\n",
              "<tr>\n",
              "<td bgcolor=\"#ffffcc\" class=\"kekka-page-kak-hanbai-zen\">第三者販売</td>\n",
              "<td bgcolor=\"#ffffcc\" class=\"kekka-page-kak-num-zen\" nowrap=\"\">2,495</td>\n",
              "<td bgcolor=\"#cccc99\" class=\"kekka-page-kak-num-zen\" nowrap=\"\">2,085</td>\n",
              "<td bgcolor=\"#ffffcc\" class=\"kekka-page-kak-num-zen\" nowrap=\"\">−</td>\n",
              "<td bgcolor=\"#cccc99\" class=\"kekka-page-kak-num-zen\" nowrap=\"\">−</td>\n",
              "<td bgcolor=\"#ffffcc\" class=\"kekka-page-kak-num-zen\" nowrap=\"\">230</td>\n",
              "<td bgcolor=\"#cccc99\" class=\"kekka-page-kak-num-zen\" nowrap=\"\">180</td>\n",
              "</tr>\n",
              "<tr>\n",
              "<td bgcolor=\"#ffffcc\" class=\"kekka-page-kak-hanbai-zen\">商物分離</td>\n",
              "<td bgcolor=\"#ffffcc\" class=\"kekka-page-kak-num-zen\" nowrap=\"\">50</td>\n",
              "<td bgcolor=\"#cccc99\" class=\"kekka-page-kak-num-zen\" nowrap=\"\">−</td>\n",
              "<td bgcolor=\"#ffffcc\" class=\"kekka-page-kak-num-zen\" nowrap=\"\">50</td>\n",
              "<td bgcolor=\"#cccc99\" class=\"kekka-page-kak-num-zen\" nowrap=\"\">−</td>\n",
              "<td bgcolor=\"#ffffcc\" class=\"kekka-page-kak-num-zen\" nowrap=\"\">−</td>\n",
              "<td bgcolor=\"#cccc99\" class=\"kekka-page-kak-num-zen\" nowrap=\"\">−</td>\n",
              "</tr>\n",
              "<tr>\n",
              "<td bgcolor=\"#ccccff\" class=\"kekka-page-kak-hinmei-zen\" rowspan=\"4\">小計</td>\n",
              "<td bgcolor=\"#ccccff\" class=\"kekka-page-kak-tnum-zen\" nowrap=\"\" rowspan=\"4\">252,591</td>\n",
              "<td bgcolor=\"#ccccff\" class=\"kekka-page-kak-hanbai-zen\">せり・入札</td>\n",
              "<td bgcolor=\"#ccccff\" class=\"kekka-page-kak-num-zen\" nowrap=\"\">40,654</td>\n",
              "<td bgcolor=\"#9999ff\" class=\"kekka-page-kak-num-zen\" nowrap=\"\">3,035</td>\n",
              "<td bgcolor=\"#ccccff\" class=\"kekka-page-kak-num-zen\" nowrap=\"\">23,034</td>\n",
              "<td bgcolor=\"#9999ff\" class=\"kekka-page-kak-num-zen\" nowrap=\"\">1,660</td>\n",
              "<td bgcolor=\"#ccccff\" class=\"kekka-page-kak-num-zen\" nowrap=\"\">4,175</td>\n",
              "<td bgcolor=\"#9999ff\" class=\"kekka-page-kak-num-zen\" nowrap=\"\">8,750</td>\n",
              "</tr>\n",
              "<tr>\n",
              "<td bgcolor=\"#ccccff\" class=\"kekka-page-kak-hanbai-zen\">相対</td>\n",
              "<td bgcolor=\"#ccccff\" class=\"kekka-page-kak-num-zen\" nowrap=\"\">208,652</td>\n",
              "<td bgcolor=\"#9999ff\" class=\"kekka-page-kak-num-zen\" nowrap=\"\">15,030</td>\n",
              "<td bgcolor=\"#ccccff\" class=\"kekka-page-kak-num-zen\" nowrap=\"\">140,508</td>\n",
              "<td bgcolor=\"#9999ff\" class=\"kekka-page-kak-num-zen\" nowrap=\"\">15,850</td>\n",
              "<td bgcolor=\"#ccccff\" class=\"kekka-page-kak-num-zen\" nowrap=\"\">12,505</td>\n",
              "<td bgcolor=\"#9999ff\" class=\"kekka-page-kak-num-zen\" nowrap=\"\">24,759</td>\n",
              "</tr>\n",
              "<tr>\n",
              "<td bgcolor=\"#ccccff\" class=\"kekka-page-kak-hanbai-zen\">第三者販売</td>\n",
              "<td bgcolor=\"#ccccff\" class=\"kekka-page-kak-num-zen\" nowrap=\"\">3,235</td>\n",
              "<td bgcolor=\"#9999ff\" class=\"kekka-page-kak-num-zen\" nowrap=\"\">2,625</td>\n",
              "<td bgcolor=\"#ccccff\" class=\"kekka-page-kak-num-zen\" nowrap=\"\">−</td>\n",
              "<td bgcolor=\"#9999ff\" class=\"kekka-page-kak-num-zen\" nowrap=\"\">−</td>\n",
              "<td bgcolor=\"#ccccff\" class=\"kekka-page-kak-num-zen\" nowrap=\"\">430</td>\n",
              "<td bgcolor=\"#9999ff\" class=\"kekka-page-kak-num-zen\" nowrap=\"\">180</td>\n",
              "</tr>\n",
              "<tr>\n",
              "<td bgcolor=\"#ccccff\" class=\"kekka-page-kak-hanbai-zen\">商物分離</td>\n",
              "<td bgcolor=\"#ccccff\" class=\"kekka-page-kak-num-zen\" nowrap=\"\">50</td>\n",
              "<td bgcolor=\"#9999ff\" class=\"kekka-page-kak-num-zen\" nowrap=\"\">−</td>\n",
              "<td bgcolor=\"#ccccff\" class=\"kekka-page-kak-num-zen\" nowrap=\"\">50</td>\n",
              "<td bgcolor=\"#9999ff\" class=\"kekka-page-kak-num-zen\" nowrap=\"\">−</td>\n",
              "<td bgcolor=\"#ccccff\" class=\"kekka-page-kak-num-zen\" nowrap=\"\">−</td>\n",
              "<td bgcolor=\"#9999ff\" class=\"kekka-page-kak-num-zen\" nowrap=\"\">−</td>\n",
              "</tr>\n",
              "</table>\n",
              "</div>"
            ]
          },
          "metadata": {},
          "execution_count": 9
        }
      ]
    },
    {
      "cell_type": "code",
      "source": [
        "dataframe_columns = {\n",
        "    \"日付\":\"\",\n",
        "    \"分類\":\"\",\n",
        "    \"品名\":\"\",\n",
        "    \"販売方法\":\"\",\n",
        "    \"卸売数量\":\"\",\n",
        "    \"北足立\":\"\",\n",
        "    \"大田\":\"\",\n",
        "    \"板橋\":\"\",\n",
        "    \"葛西\":\"\",\n",
        "    \"世田谷\":\"\"\n",
        "}\n",
        "df = pd.DataFrame([],columns= dataframe_columns.keys())"
      ],
      "metadata": {
        "id": "Ml04I79uKVYB"
      },
      "execution_count": null,
      "outputs": []
    },
    {
      "cell_type": "code",
      "source": [
        "#ターゲットとなるデータフレームの枠が作成された\n",
        "df"
      ],
      "metadata": {
        "colab": {
          "base_uri": "https://localhost:8080/",
          "height": 49
        },
        "id": "qW_baOPOLPvn",
        "outputId": "28e1db0e-5a20-4dcb-c559-e9ee418e27f0"
      },
      "execution_count": null,
      "outputs": [
        {
          "output_type": "execute_result",
          "data": {
            "text/plain": [
              "Empty DataFrame\n",
              "Columns: [日付, 分類, 品名, 販売方法, 卸売数量, 北足立, 大田, 板橋, 葛西, 世田谷]\n",
              "Index: []"
            ],
            "text/html": [
              "\n",
              "  <div id=\"df-d02b02eb-ff30-4a64-86e1-856cd7d97099\">\n",
              "    <div class=\"colab-df-container\">\n",
              "      <div>\n",
              "<style scoped>\n",
              "    .dataframe tbody tr th:only-of-type {\n",
              "        vertical-align: middle;\n",
              "    }\n",
              "\n",
              "    .dataframe tbody tr th {\n",
              "        vertical-align: top;\n",
              "    }\n",
              "\n",
              "    .dataframe thead th {\n",
              "        text-align: right;\n",
              "    }\n",
              "</style>\n",
              "<table border=\"1\" class=\"dataframe\">\n",
              "  <thead>\n",
              "    <tr style=\"text-align: right;\">\n",
              "      <th></th>\n",
              "      <th>日付</th>\n",
              "      <th>分類</th>\n",
              "      <th>品名</th>\n",
              "      <th>販売方法</th>\n",
              "      <th>卸売数量</th>\n",
              "      <th>北足立</th>\n",
              "      <th>大田</th>\n",
              "      <th>板橋</th>\n",
              "      <th>葛西</th>\n",
              "      <th>世田谷</th>\n",
              "    </tr>\n",
              "  </thead>\n",
              "  <tbody>\n",
              "  </tbody>\n",
              "</table>\n",
              "</div>\n",
              "      <button class=\"colab-df-convert\" onclick=\"convertToInteractive('df-d02b02eb-ff30-4a64-86e1-856cd7d97099')\"\n",
              "              title=\"Convert this dataframe to an interactive table.\"\n",
              "              style=\"display:none;\">\n",
              "        \n",
              "  <svg xmlns=\"http://www.w3.org/2000/svg\" height=\"24px\"viewBox=\"0 0 24 24\"\n",
              "       width=\"24px\">\n",
              "    <path d=\"M0 0h24v24H0V0z\" fill=\"none\"/>\n",
              "    <path d=\"M18.56 5.44l.94 2.06.94-2.06 2.06-.94-2.06-.94-.94-2.06-.94 2.06-2.06.94zm-11 1L8.5 8.5l.94-2.06 2.06-.94-2.06-.94L8.5 2.5l-.94 2.06-2.06.94zm10 10l.94 2.06.94-2.06 2.06-.94-2.06-.94-.94-2.06-.94 2.06-2.06.94z\"/><path d=\"M17.41 7.96l-1.37-1.37c-.4-.4-.92-.59-1.43-.59-.52 0-1.04.2-1.43.59L10.3 9.45l-7.72 7.72c-.78.78-.78 2.05 0 2.83L4 21.41c.39.39.9.59 1.41.59.51 0 1.02-.2 1.41-.59l7.78-7.78 2.81-2.81c.8-.78.8-2.07 0-2.86zM5.41 20L4 18.59l7.72-7.72 1.47 1.35L5.41 20z\"/>\n",
              "  </svg>\n",
              "      </button>\n",
              "      \n",
              "  <style>\n",
              "    .colab-df-container {\n",
              "      display:flex;\n",
              "      flex-wrap:wrap;\n",
              "      gap: 12px;\n",
              "    }\n",
              "\n",
              "    .colab-df-convert {\n",
              "      background-color: #E8F0FE;\n",
              "      border: none;\n",
              "      border-radius: 50%;\n",
              "      cursor: pointer;\n",
              "      display: none;\n",
              "      fill: #1967D2;\n",
              "      height: 32px;\n",
              "      padding: 0 0 0 0;\n",
              "      width: 32px;\n",
              "    }\n",
              "\n",
              "    .colab-df-convert:hover {\n",
              "      background-color: #E2EBFA;\n",
              "      box-shadow: 0px 1px 2px rgba(60, 64, 67, 0.3), 0px 1px 3px 1px rgba(60, 64, 67, 0.15);\n",
              "      fill: #174EA6;\n",
              "    }\n",
              "\n",
              "    [theme=dark] .colab-df-convert {\n",
              "      background-color: #3B4455;\n",
              "      fill: #D2E3FC;\n",
              "    }\n",
              "\n",
              "    [theme=dark] .colab-df-convert:hover {\n",
              "      background-color: #434B5C;\n",
              "      box-shadow: 0px 1px 3px 1px rgba(0, 0, 0, 0.15);\n",
              "      filter: drop-shadow(0px 1px 2px rgba(0, 0, 0, 0.3));\n",
              "      fill: #FFFFFF;\n",
              "    }\n",
              "  </style>\n",
              "\n",
              "      <script>\n",
              "        const buttonEl =\n",
              "          document.querySelector('#df-d02b02eb-ff30-4a64-86e1-856cd7d97099 button.colab-df-convert');\n",
              "        buttonEl.style.display =\n",
              "          google.colab.kernel.accessAllowed ? 'block' : 'none';\n",
              "\n",
              "        async function convertToInteractive(key) {\n",
              "          const element = document.querySelector('#df-d02b02eb-ff30-4a64-86e1-856cd7d97099');\n",
              "          const dataTable =\n",
              "            await google.colab.kernel.invokeFunction('convertToInteractive',\n",
              "                                                     [key], {});\n",
              "          if (!dataTable) return;\n",
              "\n",
              "          const docLinkHtml = 'Like what you see? Visit the ' +\n",
              "            '<a target=\"_blank\" href=https://colab.research.google.com/notebooks/data_table.ipynb>data table notebook</a>'\n",
              "            + ' to learn more about interactive tables.';\n",
              "          element.innerHTML = '';\n",
              "          dataTable['output_type'] = 'display_data';\n",
              "          await google.colab.output.renderOutput(dataTable, element);\n",
              "          const docLink = document.createElement('div');\n",
              "          docLink.innerHTML = docLinkHtml;\n",
              "          element.appendChild(docLink);\n",
              "        }\n",
              "      </script>\n",
              "    </div>\n",
              "  </div>\n",
              "  "
            ]
          },
          "metadata": {},
          "execution_count": 11
        }
      ]
    },
    {
      "cell_type": "code",
      "source": [
        "#日付 取れた\n",
        "datetime = today_str"
      ],
      "metadata": {
        "id": "qZH46OaRLUPB"
      },
      "execution_count": null,
      "outputs": []
    },
    {
      "cell_type": "code",
      "source": [
        "#分類 テーブルのキャプションから取るのが良いかも \n",
        "classification = table.find(\"caption\",class_ =\"kekka-page-kak-caption\").text\n",
        "classification "
      ],
      "metadata": {
        "id": "gZ5ChgqKOiwo",
        "colab": {
          "base_uri": "https://localhost:8080/",
          "height": 34
        },
        "outputId": "19dacb56-7370-4221-b587-5b3bed7cc9ba"
      },
      "execution_count": null,
      "outputs": [
        {
          "output_type": "execute_result",
          "data": {
            "text/plain": [
              "'切葉（単位：枚）'"
            ],
            "application/vnd.google.colaboratory.intrinsic+json": {
              "type": "string"
            }
          },
          "metadata": {},
          "execution_count": 13
        }
      ]
    },
    {
      "cell_type": "code",
      "source": [
        "#品名 取れた\n",
        "flower_name = table.find(\"td\",class_=\"kekka-page-kak-hinmei-zen\").text\n",
        "flower_name"
      ],
      "metadata": {
        "colab": {
          "base_uri": "https://localhost:8080/",
          "height": 34
        },
        "id": "DoOrE1ijPpzH",
        "outputId": "cf0f5a9d-4c0e-450a-b393-14a912129551"
      },
      "execution_count": null,
      "outputs": [
        {
          "output_type": "execute_result",
          "data": {
            "text/plain": [
              "'そてつ'"
            ],
            "application/vnd.google.colaboratory.intrinsic+json": {
              "type": "string"
            }
          },
          "metadata": {},
          "execution_count": 14
        }
      ]
    },
    {
      "cell_type": "code",
      "source": [
        "#販売方法\n",
        "sales_method =  table.find(\"td\",class_=\"kekka-page-kak-hanbai-zen\").text\n",
        "sales_method"
      ],
      "metadata": {
        "colab": {
          "base_uri": "https://localhost:8080/",
          "height": 34
        },
        "id": "0d4nfeiYPwwl",
        "outputId": "7beceb88-5858-41c1-adc8-36985c5ae63a"
      },
      "execution_count": null,
      "outputs": [
        {
          "output_type": "execute_result",
          "data": {
            "text/plain": [
              "'せり・入札'"
            ],
            "application/vnd.google.colaboratory.intrinsic+json": {
              "type": "string"
            }
          },
          "metadata": {},
          "execution_count": 15
        }
      ]
    },
    {
      "cell_type": "code",
      "source": [
        "#卸売数量\n",
        "wholesale_quantity = table.find_all(\"td\",class_=\"kekka-page-kak-num-zen\")[0].text\n",
        "if wholesale_quantity==\"−\":\n",
        "  wholesale_quantity = 0\n",
        "else:\n",
        "  wholesale_quantity = int(wholesale_quantity)\n",
        "wholesale_quantity"
      ],
      "metadata": {
        "colab": {
          "base_uri": "https://localhost:8080/"
        },
        "id": "17XSGxQdR1al",
        "outputId": "ea4b77c4-aadc-4844-97fd-da81b4687ac4"
      },
      "execution_count": null,
      "outputs": [
        {
          "output_type": "execute_result",
          "data": {
            "text/plain": [
              "800"
            ]
          },
          "metadata": {},
          "execution_count": 32
        }
      ]
    },
    {
      "cell_type": "code",
      "source": [
        "#北足立\n",
        "north_adachi_quantity = table.find_all(\"td\",class_=\"kekka-page-kak-num-zen\")[1].text\n",
        "if north_adachi_quantity == \"−\":\n",
        "  north_adachi_quantity = 0 \n",
        "else:\n",
        "  north_adachi_quantity = int(north_adachi_quantity)\n",
        "north_adachi_quantity"
      ],
      "metadata": {
        "colab": {
          "base_uri": "https://localhost:8080/"
        },
        "id": "bebrGDhiR6XL",
        "outputId": "80d1f610-07d5-4524-d7c9-3cf53de9ec92"
      },
      "execution_count": null,
      "outputs": [
        {
          "output_type": "execute_result",
          "data": {
            "text/plain": [
              "100"
            ]
          },
          "metadata": {},
          "execution_count": 33
        }
      ]
    },
    {
      "cell_type": "code",
      "source": [
        "#大田\n",
        "ota_quantity  = table.find_all(\"td\",class_=\"kekka-page-kak-num-zen\")[2].text\n",
        "if ota_quantity == \"−\":\n",
        "  ota_quantity = 0\n",
        "else:\n",
        "  ota_quantity = int(ota_quantity)\n",
        "ota_quantity"
      ],
      "metadata": {
        "colab": {
          "base_uri": "https://localhost:8080/"
        },
        "id": "gHghqWycVZWe",
        "outputId": "b5b2e508-42a3-4465-f6f3-e6c157eefc04"
      },
      "execution_count": null,
      "outputs": [
        {
          "output_type": "execute_result",
          "data": {
            "text/plain": [
              "500"
            ]
          },
          "metadata": {},
          "execution_count": 34
        }
      ]
    },
    {
      "cell_type": "code",
      "source": [
        "#板橋\n",
        "#値がない場合、\"-\"と返ってくる \n",
        "#この場合、整数0を返すような仕組みが必要（いつ何時この値が0になるかわからないので）\n",
        "itabashi_quantity = table.find_all(\"td\",class_=\"kekka-page-kak-num-zen\")[3].text \n",
        "if itabashi_quantity == \"−\":\n",
        "  itabashi_quantity = 0\n",
        "else:\n",
        "  itabashi_quantity =int(itabashi_quantity)\n",
        "itabashi_quantity"
      ],
      "metadata": {
        "colab": {
          "base_uri": "https://localhost:8080/"
        },
        "id": "554ySkMyU884",
        "outputId": "8839b07b-73b1-426e-af23-c6584d907b58"
      },
      "execution_count": null,
      "outputs": [
        {
          "output_type": "execute_result",
          "data": {
            "text/plain": [
              "0"
            ]
          },
          "metadata": {},
          "execution_count": 35
        }
      ]
    },
    {
      "cell_type": "code",
      "source": [
        "#葛西\n",
        "kasai_quantity  = table.find_all(\"td\",class_=\"kekka-page-kak-num-zen\")[4].text\n",
        "if kasai_quantity == \"−\":\n",
        "  kasai_quantity = 0\n",
        "else:\n",
        "  kasai_quantity = int(kasai_quantity)\n",
        "kasai_quantity "
      ],
      "metadata": {
        "colab": {
          "base_uri": "https://localhost:8080/"
        },
        "id": "pe0Y3N7zSS98",
        "outputId": "a1d99633-f987-4fa4-8020-1f3f808ed5cc"
      },
      "execution_count": null,
      "outputs": [
        {
          "output_type": "execute_result",
          "data": {
            "text/plain": [
              "200"
            ]
          },
          "metadata": {},
          "execution_count": 36
        }
      ]
    },
    {
      "cell_type": "code",
      "source": [
        "#世田谷\n",
        "setagaya_quantity  = table.find_all(\"td\",class_=\"kekka-page-kak-num-zen\")[5].text\n",
        "if setagaya_quantity == \"−\":\n",
        "  setagaya_quantity = 0\n",
        "else:\n",
        "  setagaya_quantity = int(setagaya_quantity) \n",
        "setagaya_quantity "
      ],
      "metadata": {
        "colab": {
          "base_uri": "https://localhost:8080/"
        },
        "id": "NzNkridZSbXI",
        "outputId": "7df97aff-a4f9-4dc2-e4b1-813e8bee745c"
      },
      "execution_count": null,
      "outputs": [
        {
          "output_type": "execute_result",
          "data": {
            "text/plain": [
              "0"
            ]
          },
          "metadata": {},
          "execution_count": 38
        }
      ]
    },
    {
      "cell_type": "code",
      "source": [
        "dataframe_value = {\n",
        "    \"日付\":today_str,\n",
        "    \"分類\":classification,\n",
        "    \"品名\":flower_name,\n",
        "    \"販売方法\":sales_method,\n",
        "    \"卸売数量\":wholesale_quantity,\n",
        "    \"北足立\":north_adachi_quantity,\n",
        "    \"大田\":ota_quantity,\n",
        "    \"板橋\":itabashi_quantity,\n",
        "    \"葛西\":kasai_quantity,\n",
        "    \"世田谷\":setagaya_quantity\n",
        "}\n",
        "data_list=[]\n",
        "data_list.append(dataframe_value)\n",
        "df = pd.DataFrame(data_list)\n",
        "df"
      ],
      "metadata": {
        "colab": {
          "base_uri": "https://localhost:8080/",
          "height": 81
        },
        "id": "7p5ShmB-Siih",
        "outputId": "d7d559e5-bc40-49e2-fa5b-9de182fb786e"
      },
      "execution_count": null,
      "outputs": [
        {
          "output_type": "execute_result",
          "data": {
            "text/plain": [
              "           日付        分類   品名   販売方法  卸売数量  北足立   大田  板橋   葛西  世田谷\n",
              "0  2022-09-01  切葉（単位：枚）  そてつ  せり・入札   800  100  500   0  200    0"
            ],
            "text/html": [
              "\n",
              "  <div id=\"df-c111d1f2-d47d-4210-91f5-4116cd254774\">\n",
              "    <div class=\"colab-df-container\">\n",
              "      <div>\n",
              "<style scoped>\n",
              "    .dataframe tbody tr th:only-of-type {\n",
              "        vertical-align: middle;\n",
              "    }\n",
              "\n",
              "    .dataframe tbody tr th {\n",
              "        vertical-align: top;\n",
              "    }\n",
              "\n",
              "    .dataframe thead th {\n",
              "        text-align: right;\n",
              "    }\n",
              "</style>\n",
              "<table border=\"1\" class=\"dataframe\">\n",
              "  <thead>\n",
              "    <tr style=\"text-align: right;\">\n",
              "      <th></th>\n",
              "      <th>日付</th>\n",
              "      <th>分類</th>\n",
              "      <th>品名</th>\n",
              "      <th>販売方法</th>\n",
              "      <th>卸売数量</th>\n",
              "      <th>北足立</th>\n",
              "      <th>大田</th>\n",
              "      <th>板橋</th>\n",
              "      <th>葛西</th>\n",
              "      <th>世田谷</th>\n",
              "    </tr>\n",
              "  </thead>\n",
              "  <tbody>\n",
              "    <tr>\n",
              "      <th>0</th>\n",
              "      <td>2022-09-01</td>\n",
              "      <td>切葉（単位：枚）</td>\n",
              "      <td>そてつ</td>\n",
              "      <td>せり・入札</td>\n",
              "      <td>800</td>\n",
              "      <td>100</td>\n",
              "      <td>500</td>\n",
              "      <td>0</td>\n",
              "      <td>200</td>\n",
              "      <td>0</td>\n",
              "    </tr>\n",
              "  </tbody>\n",
              "</table>\n",
              "</div>\n",
              "      <button class=\"colab-df-convert\" onclick=\"convertToInteractive('df-c111d1f2-d47d-4210-91f5-4116cd254774')\"\n",
              "              title=\"Convert this dataframe to an interactive table.\"\n",
              "              style=\"display:none;\">\n",
              "        \n",
              "  <svg xmlns=\"http://www.w3.org/2000/svg\" height=\"24px\"viewBox=\"0 0 24 24\"\n",
              "       width=\"24px\">\n",
              "    <path d=\"M0 0h24v24H0V0z\" fill=\"none\"/>\n",
              "    <path d=\"M18.56 5.44l.94 2.06.94-2.06 2.06-.94-2.06-.94-.94-2.06-.94 2.06-2.06.94zm-11 1L8.5 8.5l.94-2.06 2.06-.94-2.06-.94L8.5 2.5l-.94 2.06-2.06.94zm10 10l.94 2.06.94-2.06 2.06-.94-2.06-.94-.94-2.06-.94 2.06-2.06.94z\"/><path d=\"M17.41 7.96l-1.37-1.37c-.4-.4-.92-.59-1.43-.59-.52 0-1.04.2-1.43.59L10.3 9.45l-7.72 7.72c-.78.78-.78 2.05 0 2.83L4 21.41c.39.39.9.59 1.41.59.51 0 1.02-.2 1.41-.59l7.78-7.78 2.81-2.81c.8-.78.8-2.07 0-2.86zM5.41 20L4 18.59l7.72-7.72 1.47 1.35L5.41 20z\"/>\n",
              "  </svg>\n",
              "      </button>\n",
              "      \n",
              "  <style>\n",
              "    .colab-df-container {\n",
              "      display:flex;\n",
              "      flex-wrap:wrap;\n",
              "      gap: 12px;\n",
              "    }\n",
              "\n",
              "    .colab-df-convert {\n",
              "      background-color: #E8F0FE;\n",
              "      border: none;\n",
              "      border-radius: 50%;\n",
              "      cursor: pointer;\n",
              "      display: none;\n",
              "      fill: #1967D2;\n",
              "      height: 32px;\n",
              "      padding: 0 0 0 0;\n",
              "      width: 32px;\n",
              "    }\n",
              "\n",
              "    .colab-df-convert:hover {\n",
              "      background-color: #E2EBFA;\n",
              "      box-shadow: 0px 1px 2px rgba(60, 64, 67, 0.3), 0px 1px 3px 1px rgba(60, 64, 67, 0.15);\n",
              "      fill: #174EA6;\n",
              "    }\n",
              "\n",
              "    [theme=dark] .colab-df-convert {\n",
              "      background-color: #3B4455;\n",
              "      fill: #D2E3FC;\n",
              "    }\n",
              "\n",
              "    [theme=dark] .colab-df-convert:hover {\n",
              "      background-color: #434B5C;\n",
              "      box-shadow: 0px 1px 3px 1px rgba(0, 0, 0, 0.15);\n",
              "      filter: drop-shadow(0px 1px 2px rgba(0, 0, 0, 0.3));\n",
              "      fill: #FFFFFF;\n",
              "    }\n",
              "  </style>\n",
              "\n",
              "      <script>\n",
              "        const buttonEl =\n",
              "          document.querySelector('#df-c111d1f2-d47d-4210-91f5-4116cd254774 button.colab-df-convert');\n",
              "        buttonEl.style.display =\n",
              "          google.colab.kernel.accessAllowed ? 'block' : 'none';\n",
              "\n",
              "        async function convertToInteractive(key) {\n",
              "          const element = document.querySelector('#df-c111d1f2-d47d-4210-91f5-4116cd254774');\n",
              "          const dataTable =\n",
              "            await google.colab.kernel.invokeFunction('convertToInteractive',\n",
              "                                                     [key], {});\n",
              "          if (!dataTable) return;\n",
              "\n",
              "          const docLinkHtml = 'Like what you see? Visit the ' +\n",
              "            '<a target=\"_blank\" href=https://colab.research.google.com/notebooks/data_table.ipynb>data table notebook</a>'\n",
              "            + ' to learn more about interactive tables.';\n",
              "          element.innerHTML = '';\n",
              "          dataTable['output_type'] = 'display_data';\n",
              "          await google.colab.output.renderOutput(dataTable, element);\n",
              "          const docLink = document.createElement('div');\n",
              "          docLink.innerHTML = docLinkHtml;\n",
              "          element.appendChild(docLink);\n",
              "        }\n",
              "      </script>\n",
              "    </div>\n",
              "  </div>\n",
              "  "
            ]
          },
          "metadata": {},
          "execution_count": 39
        }
      ]
    },
    {
      "cell_type": "code",
      "source": [],
      "metadata": {
        "id": "584WwzDdUpTw"
      },
      "execution_count": null,
      "outputs": []
    }
  ]
}