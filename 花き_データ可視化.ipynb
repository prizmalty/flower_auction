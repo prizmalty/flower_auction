{
  "nbformat": 4,
  "nbformat_minor": 0,
  "metadata": {
    "colab": {
      "provenance": [],
      "mount_file_id": "1O3EVA1m1YcAj8ScBz_FGUqdVTAccJHnf",
      "authorship_tag": "ABX9TyMqpSLJJYLcrkR8kKqF3q96",
      "include_colab_link": true
    },
    "kernelspec": {
      "name": "python3",
      "display_name": "Python 3"
    },
    "language_info": {
      "name": "python"
    }
  },
  "cells": [
    {
      "cell_type": "markdown",
      "metadata": {
        "id": "view-in-github",
        "colab_type": "text"
      },
      "source": [
        "<a href=\"https://colab.research.google.com/github/prizmalty/flower_auction/blob/main/%E8%8A%B1%E3%81%8D_%E3%83%87%E3%83%BC%E3%82%BF%E5%8F%AF%E8%A6%96%E5%8C%96.ipynb\" target=\"_parent\"><img src=\"https://colab.research.google.com/assets/colab-badge.svg\" alt=\"Open In Colab\"/></a>"
      ]
    },
    {
      "cell_type": "markdown",
      "source": [
        "# **花き データ可視化**\n"
      ],
      "metadata": {
        "id": "v6xm08_eJcYf"
      }
    },
    {
      "cell_type": "markdown",
      "source": [
        "## pandasのread_csvで読み込む"
      ],
      "metadata": {
        "id": "mm3yU_MSKMOW"
      }
    },
    {
      "cell_type": "code",
      "source": [
        "import numpy as np\n",
        "import pandas as pd"
      ],
      "metadata": {
        "id": "2maTrE2aSL4V"
      },
      "execution_count": null,
      "outputs": []
    },
    {
      "cell_type": "code",
      "source": [
        "dir_path =\"/content/drive/MyDrive/python/kaki/Kak_K0.csv\""
      ],
      "metadata": {
        "id": "KfhiJ0o8Ro7i"
      },
      "execution_count": null,
      "outputs": []
    },
    {
      "cell_type": "code",
      "source": [
        "df = pd.read_csv(dir_path,encoding=\"shift_jis\")\n",
        "df"
      ],
      "metadata": {
        "colab": {
          "base_uri": "https://localhost:8080/",
          "height": 424
        },
        "id": "nRs1I4zHSCja",
        "outputId": "eaea4887-687f-4cce-8efb-4baa9e8e2bfd"
      },
      "execution_count": null,
      "outputs": [
        {
          "output_type": "execute_result",
          "data": {
            "text/plain": [
              "        販売結果（花き　全市場） Unnamed: 1 Unnamed: 2 Unnamed: 3 Unnamed: 4 Unnamed: 5  \\\n",
              "0   令和 4年08月30日(火曜日)        NaN        NaN        NaN        NaN        NaN   \n",
              "1                NaN        NaN        NaN        NaN        NaN        NaN   \n",
              "2           切枝（単位：本）        NaN        NaN        NaN        NaN        NaN   \n",
              "3                 品名      卸売数量計       販売方法       卸売数量        北足立         大田   \n",
              "4             その他の切枝         40         相対         40          -          -   \n",
              "..               ...        ...        ...        ...        ...        ...   \n",
              "74               NaN        NaN       商物分離      10299          -      10299   \n",
              "75                小計      15382      せり・入札       2013        136       1086   \n",
              "76               NaN        NaN         相対       2793        386       2386   \n",
              "77               NaN        NaN      第三者販売        288          -        196   \n",
              "78               NaN        NaN       商物分離      10299          -      10299   \n",
              "\n",
              "   Unnamed: 6 Unnamed: 7 Unnamed: 8  \n",
              "0         NaN        NaN        NaN  \n",
              "1         NaN        NaN        NaN  \n",
              "2         NaN        NaN        NaN  \n",
              "3          板橋         葛西        世田谷  \n",
              "4          40          -          -  \n",
              "..        ...        ...        ...  \n",
              "74          -          -          -  \n",
              "75        764         16         11  \n",
              "76          -          5         16  \n",
              "77          -         92          -  \n",
              "78          -          -          -  \n",
              "\n",
              "[79 rows x 9 columns]"
            ],
            "text/html": [
              "\n",
              "  <div id=\"df-23370729-3b63-4297-800d-676b0a074f3b\">\n",
              "    <div class=\"colab-df-container\">\n",
              "      <div>\n",
              "<style scoped>\n",
              "    .dataframe tbody tr th:only-of-type {\n",
              "        vertical-align: middle;\n",
              "    }\n",
              "\n",
              "    .dataframe tbody tr th {\n",
              "        vertical-align: top;\n",
              "    }\n",
              "\n",
              "    .dataframe thead th {\n",
              "        text-align: right;\n",
              "    }\n",
              "</style>\n",
              "<table border=\"1\" class=\"dataframe\">\n",
              "  <thead>\n",
              "    <tr style=\"text-align: right;\">\n",
              "      <th></th>\n",
              "      <th>販売結果（花き　全市場）</th>\n",
              "      <th>Unnamed: 1</th>\n",
              "      <th>Unnamed: 2</th>\n",
              "      <th>Unnamed: 3</th>\n",
              "      <th>Unnamed: 4</th>\n",
              "      <th>Unnamed: 5</th>\n",
              "      <th>Unnamed: 6</th>\n",
              "      <th>Unnamed: 7</th>\n",
              "      <th>Unnamed: 8</th>\n",
              "    </tr>\n",
              "  </thead>\n",
              "  <tbody>\n",
              "    <tr>\n",
              "      <th>0</th>\n",
              "      <td>令和 4年08月30日(火曜日)</td>\n",
              "      <td>NaN</td>\n",
              "      <td>NaN</td>\n",
              "      <td>NaN</td>\n",
              "      <td>NaN</td>\n",
              "      <td>NaN</td>\n",
              "      <td>NaN</td>\n",
              "      <td>NaN</td>\n",
              "      <td>NaN</td>\n",
              "    </tr>\n",
              "    <tr>\n",
              "      <th>1</th>\n",
              "      <td>NaN</td>\n",
              "      <td>NaN</td>\n",
              "      <td>NaN</td>\n",
              "      <td>NaN</td>\n",
              "      <td>NaN</td>\n",
              "      <td>NaN</td>\n",
              "      <td>NaN</td>\n",
              "      <td>NaN</td>\n",
              "      <td>NaN</td>\n",
              "    </tr>\n",
              "    <tr>\n",
              "      <th>2</th>\n",
              "      <td>切枝（単位：本）</td>\n",
              "      <td>NaN</td>\n",
              "      <td>NaN</td>\n",
              "      <td>NaN</td>\n",
              "      <td>NaN</td>\n",
              "      <td>NaN</td>\n",
              "      <td>NaN</td>\n",
              "      <td>NaN</td>\n",
              "      <td>NaN</td>\n",
              "    </tr>\n",
              "    <tr>\n",
              "      <th>3</th>\n",
              "      <td>品名</td>\n",
              "      <td>卸売数量計</td>\n",
              "      <td>販売方法</td>\n",
              "      <td>卸売数量</td>\n",
              "      <td>北足立</td>\n",
              "      <td>大田</td>\n",
              "      <td>板橋</td>\n",
              "      <td>葛西</td>\n",
              "      <td>世田谷</td>\n",
              "    </tr>\n",
              "    <tr>\n",
              "      <th>4</th>\n",
              "      <td>その他の切枝</td>\n",
              "      <td>40</td>\n",
              "      <td>相対</td>\n",
              "      <td>40</td>\n",
              "      <td>-</td>\n",
              "      <td>-</td>\n",
              "      <td>40</td>\n",
              "      <td>-</td>\n",
              "      <td>-</td>\n",
              "    </tr>\n",
              "    <tr>\n",
              "      <th>...</th>\n",
              "      <td>...</td>\n",
              "      <td>...</td>\n",
              "      <td>...</td>\n",
              "      <td>...</td>\n",
              "      <td>...</td>\n",
              "      <td>...</td>\n",
              "      <td>...</td>\n",
              "      <td>...</td>\n",
              "      <td>...</td>\n",
              "    </tr>\n",
              "    <tr>\n",
              "      <th>74</th>\n",
              "      <td>NaN</td>\n",
              "      <td>NaN</td>\n",
              "      <td>商物分離</td>\n",
              "      <td>10299</td>\n",
              "      <td>-</td>\n",
              "      <td>10299</td>\n",
              "      <td>-</td>\n",
              "      <td>-</td>\n",
              "      <td>-</td>\n",
              "    </tr>\n",
              "    <tr>\n",
              "      <th>75</th>\n",
              "      <td>小計</td>\n",
              "      <td>15382</td>\n",
              "      <td>せり・入札</td>\n",
              "      <td>2013</td>\n",
              "      <td>136</td>\n",
              "      <td>1086</td>\n",
              "      <td>764</td>\n",
              "      <td>16</td>\n",
              "      <td>11</td>\n",
              "    </tr>\n",
              "    <tr>\n",
              "      <th>76</th>\n",
              "      <td>NaN</td>\n",
              "      <td>NaN</td>\n",
              "      <td>相対</td>\n",
              "      <td>2793</td>\n",
              "      <td>386</td>\n",
              "      <td>2386</td>\n",
              "      <td>-</td>\n",
              "      <td>5</td>\n",
              "      <td>16</td>\n",
              "    </tr>\n",
              "    <tr>\n",
              "      <th>77</th>\n",
              "      <td>NaN</td>\n",
              "      <td>NaN</td>\n",
              "      <td>第三者販売</td>\n",
              "      <td>288</td>\n",
              "      <td>-</td>\n",
              "      <td>196</td>\n",
              "      <td>-</td>\n",
              "      <td>92</td>\n",
              "      <td>-</td>\n",
              "    </tr>\n",
              "    <tr>\n",
              "      <th>78</th>\n",
              "      <td>NaN</td>\n",
              "      <td>NaN</td>\n",
              "      <td>商物分離</td>\n",
              "      <td>10299</td>\n",
              "      <td>-</td>\n",
              "      <td>10299</td>\n",
              "      <td>-</td>\n",
              "      <td>-</td>\n",
              "      <td>-</td>\n",
              "    </tr>\n",
              "  </tbody>\n",
              "</table>\n",
              "<p>79 rows × 9 columns</p>\n",
              "</div>\n",
              "      <button class=\"colab-df-convert\" onclick=\"convertToInteractive('df-23370729-3b63-4297-800d-676b0a074f3b')\"\n",
              "              title=\"Convert this dataframe to an interactive table.\"\n",
              "              style=\"display:none;\">\n",
              "        \n",
              "  <svg xmlns=\"http://www.w3.org/2000/svg\" height=\"24px\"viewBox=\"0 0 24 24\"\n",
              "       width=\"24px\">\n",
              "    <path d=\"M0 0h24v24H0V0z\" fill=\"none\"/>\n",
              "    <path d=\"M18.56 5.44l.94 2.06.94-2.06 2.06-.94-2.06-.94-.94-2.06-.94 2.06-2.06.94zm-11 1L8.5 8.5l.94-2.06 2.06-.94-2.06-.94L8.5 2.5l-.94 2.06-2.06.94zm10 10l.94 2.06.94-2.06 2.06-.94-2.06-.94-.94-2.06-.94 2.06-2.06.94z\"/><path d=\"M17.41 7.96l-1.37-1.37c-.4-.4-.92-.59-1.43-.59-.52 0-1.04.2-1.43.59L10.3 9.45l-7.72 7.72c-.78.78-.78 2.05 0 2.83L4 21.41c.39.39.9.59 1.41.59.51 0 1.02-.2 1.41-.59l7.78-7.78 2.81-2.81c.8-.78.8-2.07 0-2.86zM5.41 20L4 18.59l7.72-7.72 1.47 1.35L5.41 20z\"/>\n",
              "  </svg>\n",
              "      </button>\n",
              "      \n",
              "  <style>\n",
              "    .colab-df-container {\n",
              "      display:flex;\n",
              "      flex-wrap:wrap;\n",
              "      gap: 12px;\n",
              "    }\n",
              "\n",
              "    .colab-df-convert {\n",
              "      background-color: #E8F0FE;\n",
              "      border: none;\n",
              "      border-radius: 50%;\n",
              "      cursor: pointer;\n",
              "      display: none;\n",
              "      fill: #1967D2;\n",
              "      height: 32px;\n",
              "      padding: 0 0 0 0;\n",
              "      width: 32px;\n",
              "    }\n",
              "\n",
              "    .colab-df-convert:hover {\n",
              "      background-color: #E2EBFA;\n",
              "      box-shadow: 0px 1px 2px rgba(60, 64, 67, 0.3), 0px 1px 3px 1px rgba(60, 64, 67, 0.15);\n",
              "      fill: #174EA6;\n",
              "    }\n",
              "\n",
              "    [theme=dark] .colab-df-convert {\n",
              "      background-color: #3B4455;\n",
              "      fill: #D2E3FC;\n",
              "    }\n",
              "\n",
              "    [theme=dark] .colab-df-convert:hover {\n",
              "      background-color: #434B5C;\n",
              "      box-shadow: 0px 1px 3px 1px rgba(0, 0, 0, 0.15);\n",
              "      filter: drop-shadow(0px 1px 2px rgba(0, 0, 0, 0.3));\n",
              "      fill: #FFFFFF;\n",
              "    }\n",
              "  </style>\n",
              "\n",
              "      <script>\n",
              "        const buttonEl =\n",
              "          document.querySelector('#df-23370729-3b63-4297-800d-676b0a074f3b button.colab-df-convert');\n",
              "        buttonEl.style.display =\n",
              "          google.colab.kernel.accessAllowed ? 'block' : 'none';\n",
              "\n",
              "        async function convertToInteractive(key) {\n",
              "          const element = document.querySelector('#df-23370729-3b63-4297-800d-676b0a074f3b');\n",
              "          const dataTable =\n",
              "            await google.colab.kernel.invokeFunction('convertToInteractive',\n",
              "                                                     [key], {});\n",
              "          if (!dataTable) return;\n",
              "\n",
              "          const docLinkHtml = 'Like what you see? Visit the ' +\n",
              "            '<a target=\"_blank\" href=https://colab.research.google.com/notebooks/data_table.ipynb>data table notebook</a>'\n",
              "            + ' to learn more about interactive tables.';\n",
              "          element.innerHTML = '';\n",
              "          dataTable['output_type'] = 'display_data';\n",
              "          await google.colab.output.renderOutput(dataTable, element);\n",
              "          const docLink = document.createElement('div');\n",
              "          docLink.innerHTML = docLinkHtml;\n",
              "          element.appendChild(docLink);\n",
              "        }\n",
              "      </script>\n",
              "    </div>\n",
              "  </div>\n",
              "  "
            ]
          },
          "metadata": {},
          "execution_count": 46
        }
      ]
    },
    {
      "cell_type": "markdown",
      "source": [
        "素のpandasで読み込む方法は難しそう"
      ],
      "metadata": {
        "id": "u9_CTzCUKTLa"
      }
    },
    {
      "cell_type": "markdown",
      "source": [
        "##スクレイピングで取得する"
      ],
      "metadata": {
        "id": "GIYaQJX_KGch"
      }
    },
    {
      "cell_type": "code",
      "source": [
        "#モジュールインポート\n",
        "import requests\n",
        "from bs4 import BeautifulSoup\n",
        "from time import sleep\n",
        "import datetime \n",
        "import pandas as pd\n",
        "import re"
      ],
      "metadata": {
        "id": "V863zvd7Kcem"
      },
      "execution_count": 15,
      "outputs": []
    },
    {
      "cell_type": "code",
      "source": [
        "#URL取得\n",
        "URL=\"https://www.shijou-nippo.metro.tokyo.lg.jp/SN/202208/20220831/Kak/SN_Kak_Zen_index.html\"\n",
        "response=requests.get(URL)\n",
        "response"
      ],
      "metadata": {
        "colab": {
          "base_uri": "https://localhost:8080/"
        },
        "id": "_wWsbjk08o4k",
        "outputId": "0f371670-e46e-46dd-e96c-0aab0beaba3d"
      },
      "execution_count": 16,
      "outputs": [
        {
          "output_type": "execute_result",
          "data": {
            "text/plain": [
              "<Response [200]>"
            ]
          },
          "metadata": {},
          "execution_count": 16
        }
      ]
    },
    {
      "cell_type": "code",
      "source": [
        "#URL取得\n",
        "URL=\"https://www.shijou-nippo.metro.tokyo.lg.jp/SN/202208/20220831/Kak/SN_Kak_Zen_index.html\""
      ],
      "metadata": {
        "id": "So3Q7kk-K4gx"
      },
      "execution_count": 17,
      "outputs": []
    },
    {
      "cell_type": "code",
      "source": [
        "response=requests.get(URL)\n",
        "response"
      ],
      "metadata": {
        "colab": {
          "base_uri": "https://localhost:8080/"
        },
        "id": "HBxTB5_sK-T9",
        "outputId": "4acad54c-8129-4070-c830-38fc2f016fa8"
      },
      "execution_count": 18,
      "outputs": [
        {
          "output_type": "execute_result",
          "data": {
            "text/plain": [
              "<Response [200]>"
            ]
          },
          "metadata": {},
          "execution_count": 18
        }
      ]
    },
    {
      "cell_type": "code",
      "source": [
        "!pip install chardet"
      ],
      "metadata": {
        "colab": {
          "base_uri": "https://localhost:8080/"
        },
        "id": "XkcrdVPSRHo3",
        "outputId": "cf2b8c02-ddbc-4cab-e6a9-aeb6c3661a24"
      },
      "execution_count": 19,
      "outputs": [
        {
          "output_type": "stream",
          "name": "stdout",
          "text": [
            "Looking in indexes: https://pypi.org/simple, https://us-python.pkg.dev/colab-wheels/public/simple/\n",
            "Requirement already satisfied: chardet in /usr/local/lib/python3.7/dist-packages (3.0.4)\n"
          ]
        }
      ]
    },
    {
      "cell_type": "code",
      "source": [
        "soup = BeautifulSoup(response.content, 'html.parser')"
      ],
      "metadata": {
        "id": "nkNA-lmGOQ56"
      },
      "execution_count": 20,
      "outputs": []
    },
    {
      "cell_type": "code",
      "source": [
        "table=soup.find_all(\"div\",class_=\"kekka-page-kak-zen\")[2]"
      ],
      "metadata": {
        "id": "sRczok-UNfex"
      },
      "execution_count": 21,
      "outputs": []
    },
    {
      "cell_type": "code",
      "source": [
        "dataframe_columns = {\n",
        "    \"日付\":\"\",\n",
        "    \"分類\":\"\",\n",
        "    \"品名\":\"\",\n",
        "    \"販売方法\":\"\",\n",
        "    \"卸売数量\":\"\",\n",
        "    \"北足立\":\"\",\n",
        "    \"大田\":\"\",\n",
        "    \"板橋\":\"\",\n",
        "    \"葛西\":\"\",\n",
        "    \"世田谷\":\"\"\n",
        "}\n",
        "df = pd.DataFrame([],columns= dataframe_columns.keys())"
      ],
      "metadata": {
        "id": "Ml04I79uKVYB"
      },
      "execution_count": 22,
      "outputs": []
    },
    {
      "cell_type": "code",
      "source": [
        "#ターゲットとなるデータフレームの枠が作成された\n",
        "df"
      ],
      "metadata": {
        "colab": {
          "base_uri": "https://localhost:8080/",
          "height": 49
        },
        "id": "qW_baOPOLPvn",
        "outputId": "a4574b6c-95da-446f-d4a5-728057073393"
      },
      "execution_count": 23,
      "outputs": [
        {
          "output_type": "execute_result",
          "data": {
            "text/plain": [
              "Empty DataFrame\n",
              "Columns: [日付, 分類, 品名, 販売方法, 卸売数量, 北足立, 大田, 板橋, 葛西, 世田谷]\n",
              "Index: []"
            ],
            "text/html": [
              "\n",
              "  <div id=\"df-9a3811d3-6543-4adf-91f5-e2caf78e3679\">\n",
              "    <div class=\"colab-df-container\">\n",
              "      <div>\n",
              "<style scoped>\n",
              "    .dataframe tbody tr th:only-of-type {\n",
              "        vertical-align: middle;\n",
              "    }\n",
              "\n",
              "    .dataframe tbody tr th {\n",
              "        vertical-align: top;\n",
              "    }\n",
              "\n",
              "    .dataframe thead th {\n",
              "        text-align: right;\n",
              "    }\n",
              "</style>\n",
              "<table border=\"1\" class=\"dataframe\">\n",
              "  <thead>\n",
              "    <tr style=\"text-align: right;\">\n",
              "      <th></th>\n",
              "      <th>日付</th>\n",
              "      <th>分類</th>\n",
              "      <th>品名</th>\n",
              "      <th>販売方法</th>\n",
              "      <th>卸売数量</th>\n",
              "      <th>北足立</th>\n",
              "      <th>大田</th>\n",
              "      <th>板橋</th>\n",
              "      <th>葛西</th>\n",
              "      <th>世田谷</th>\n",
              "    </tr>\n",
              "  </thead>\n",
              "  <tbody>\n",
              "  </tbody>\n",
              "</table>\n",
              "</div>\n",
              "      <button class=\"colab-df-convert\" onclick=\"convertToInteractive('df-9a3811d3-6543-4adf-91f5-e2caf78e3679')\"\n",
              "              title=\"Convert this dataframe to an interactive table.\"\n",
              "              style=\"display:none;\">\n",
              "        \n",
              "  <svg xmlns=\"http://www.w3.org/2000/svg\" height=\"24px\"viewBox=\"0 0 24 24\"\n",
              "       width=\"24px\">\n",
              "    <path d=\"M0 0h24v24H0V0z\" fill=\"none\"/>\n",
              "    <path d=\"M18.56 5.44l.94 2.06.94-2.06 2.06-.94-2.06-.94-.94-2.06-.94 2.06-2.06.94zm-11 1L8.5 8.5l.94-2.06 2.06-.94-2.06-.94L8.5 2.5l-.94 2.06-2.06.94zm10 10l.94 2.06.94-2.06 2.06-.94-2.06-.94-.94-2.06-.94 2.06-2.06.94z\"/><path d=\"M17.41 7.96l-1.37-1.37c-.4-.4-.92-.59-1.43-.59-.52 0-1.04.2-1.43.59L10.3 9.45l-7.72 7.72c-.78.78-.78 2.05 0 2.83L4 21.41c.39.39.9.59 1.41.59.51 0 1.02-.2 1.41-.59l7.78-7.78 2.81-2.81c.8-.78.8-2.07 0-2.86zM5.41 20L4 18.59l7.72-7.72 1.47 1.35L5.41 20z\"/>\n",
              "  </svg>\n",
              "      </button>\n",
              "      \n",
              "  <style>\n",
              "    .colab-df-container {\n",
              "      display:flex;\n",
              "      flex-wrap:wrap;\n",
              "      gap: 12px;\n",
              "    }\n",
              "\n",
              "    .colab-df-convert {\n",
              "      background-color: #E8F0FE;\n",
              "      border: none;\n",
              "      border-radius: 50%;\n",
              "      cursor: pointer;\n",
              "      display: none;\n",
              "      fill: #1967D2;\n",
              "      height: 32px;\n",
              "      padding: 0 0 0 0;\n",
              "      width: 32px;\n",
              "    }\n",
              "\n",
              "    .colab-df-convert:hover {\n",
              "      background-color: #E2EBFA;\n",
              "      box-shadow: 0px 1px 2px rgba(60, 64, 67, 0.3), 0px 1px 3px 1px rgba(60, 64, 67, 0.15);\n",
              "      fill: #174EA6;\n",
              "    }\n",
              "\n",
              "    [theme=dark] .colab-df-convert {\n",
              "      background-color: #3B4455;\n",
              "      fill: #D2E3FC;\n",
              "    }\n",
              "\n",
              "    [theme=dark] .colab-df-convert:hover {\n",
              "      background-color: #434B5C;\n",
              "      box-shadow: 0px 1px 3px 1px rgba(0, 0, 0, 0.15);\n",
              "      filter: drop-shadow(0px 1px 2px rgba(0, 0, 0, 0.3));\n",
              "      fill: #FFFFFF;\n",
              "    }\n",
              "  </style>\n",
              "\n",
              "      <script>\n",
              "        const buttonEl =\n",
              "          document.querySelector('#df-9a3811d3-6543-4adf-91f5-e2caf78e3679 button.colab-df-convert');\n",
              "        buttonEl.style.display =\n",
              "          google.colab.kernel.accessAllowed ? 'block' : 'none';\n",
              "\n",
              "        async function convertToInteractive(key) {\n",
              "          const element = document.querySelector('#df-9a3811d3-6543-4adf-91f5-e2caf78e3679');\n",
              "          const dataTable =\n",
              "            await google.colab.kernel.invokeFunction('convertToInteractive',\n",
              "                                                     [key], {});\n",
              "          if (!dataTable) return;\n",
              "\n",
              "          const docLinkHtml = 'Like what you see? Visit the ' +\n",
              "            '<a target=\"_blank\" href=https://colab.research.google.com/notebooks/data_table.ipynb>data table notebook</a>'\n",
              "            + ' to learn more about interactive tables.';\n",
              "          element.innerHTML = '';\n",
              "          dataTable['output_type'] = 'display_data';\n",
              "          await google.colab.output.renderOutput(dataTable, element);\n",
              "          const docLink = document.createElement('div');\n",
              "          docLink.innerHTML = docLinkHtml;\n",
              "          element.appendChild(docLink);\n",
              "        }\n",
              "      </script>\n",
              "    </div>\n",
              "  </div>\n",
              "  "
            ]
          },
          "metadata": {},
          "execution_count": 23
        }
      ]
    },
    {
      "cell_type": "code",
      "source": [
        "#日付 \n",
        "#曜日、()、空白など邪魔な文字列を削除する\n",
        "datetime = soup.find(\"th\",class_ =\"header-title-date\").text\n",
        "datetime_fixed = re.sub(\"[月火水木金土日]曜日\",\"\",datetime).replace(\"()\",\"\").replace(\" \",\"\")\n",
        "datetime_fixed"
      ],
      "metadata": {
        "id": "qZH46OaRLUPB",
        "colab": {
          "base_uri": "https://localhost:8080/",
          "height": 34
        },
        "outputId": "08f27269-e104-4aa1-ba78-d17007627b08"
      },
      "execution_count": 24,
      "outputs": [
        {
          "output_type": "execute_result",
          "data": {
            "text/plain": [
              "'令和4年08月31日'"
            ],
            "application/vnd.google.colaboratory.intrinsic+json": {
              "type": "string"
            }
          },
          "metadata": {},
          "execution_count": 24
        }
      ]
    },
    {
      "cell_type": "code",
      "source": [
        "import unicodedata\n",
        "import re\n",
        "import datetime\n",
        " \n",
        "# 各年号の元年を定義\n",
        "eraDict = {\n",
        "    \"明治\": 1868,\n",
        "    \"大正\": 1912,\n",
        "    \"昭和\": 1926,\n",
        "    \"平成\": 1989,\n",
        "    \"令和\": 2019,\n",
        "}\n",
        " \n",
        " \n",
        "def japanese_calendar_converter(text):\n",
        "    # 正規化\n",
        "    normalized_text = unicodedata.normalize(\"NFKC\", text)\n",
        " \n",
        "    # 年月日を抽出\n",
        "    pattern = r\"(?P<era>{eraList})(?P<year>[0-9]{{1,2}}|元)年(?P<month>[0-9]{{1,2}})月(?P<day>[0-9]{{1,2}})日\".format(eraList=\"|\".join(eraDict.keys()))\n",
        "    date = re.search(pattern, normalized_text)\n",
        " \n",
        "    # 抽出できなかったら終わり\n",
        "    if date is None:\n",
        "        print(\"Cannot convert to western year\")\n",
        " \n",
        "    # 年を変換\n",
        "    for era, startYear in eraDict.items():\n",
        "        if date.group(\"era\") == era:\n",
        "            if date.group(\"year\") == \"元\":\n",
        "                year = eraDict[era]\n",
        "            else:\n",
        "                year = eraDict[era] + int(date.group(\"year\")) - 1\n",
        "    \n",
        "    # date型に変換して返す\n",
        "    return datetime.date(year, int(date.group(\"month\")), int(date.group(\"day\")))"
      ],
      "metadata": {
        "id": "qKkNNbBSZxWH"
      },
      "execution_count": 25,
      "outputs": []
    },
    {
      "cell_type": "code",
      "source": [
        "datetime_fixed"
      ],
      "metadata": {
        "colab": {
          "base_uri": "https://localhost:8080/",
          "height": 34
        },
        "id": "aRHGlLcGanF-",
        "outputId": "7aed4159-efa1-41e7-8e6a-91e21c5904a7"
      },
      "execution_count": 26,
      "outputs": [
        {
          "output_type": "execute_result",
          "data": {
            "text/plain": [
              "'令和4年08月31日'"
            ],
            "application/vnd.google.colaboratory.intrinsic+json": {
              "type": "string"
            }
          },
          "metadata": {},
          "execution_count": 26
        }
      ]
    },
    {
      "cell_type": "code",
      "source": [
        "datetime_converted = japanese_calendar_converter(datetime_fixed)\n",
        "print(datetime_converted)"
      ],
      "metadata": {
        "colab": {
          "base_uri": "https://localhost:8080/"
        },
        "id": "Tx2rT70-Z98x",
        "outputId": "46a11d12-977f-4e59-8c4f-f3a3a1f14e6c"
      },
      "execution_count": 27,
      "outputs": [
        {
          "output_type": "stream",
          "name": "stdout",
          "text": [
            "2022-08-31\n"
          ]
        }
      ]
    },
    {
      "cell_type": "code",
      "source": [
        "#分類 テーブルのキャプションから取るのが良いかも \n",
        "classification = table.find(\"caption\",class_ =\"kekka-page-kak-caption\").text\n",
        "classification "
      ],
      "metadata": {
        "id": "gZ5ChgqKOiwo",
        "colab": {
          "base_uri": "https://localhost:8080/",
          "height": 34
        },
        "outputId": "d7da9b4e-a4b4-4bce-ab27-b3c0388f4fdd"
      },
      "execution_count": 28,
      "outputs": [
        {
          "output_type": "execute_result",
          "data": {
            "text/plain": [
              "'切葉（単位：枚）'"
            ],
            "application/vnd.google.colaboratory.intrinsic+json": {
              "type": "string"
            }
          },
          "metadata": {},
          "execution_count": 28
        }
      ]
    },
    {
      "cell_type": "code",
      "source": [
        "#品名 取れた\n",
        "flower_name = table.find(\"td\",class_=\"kekka-page-kak-hinmei-zen\").text\n",
        "flower_name"
      ],
      "metadata": {
        "colab": {
          "base_uri": "https://localhost:8080/",
          "height": 34
        },
        "id": "DoOrE1ijPpzH",
        "outputId": "53a208ed-9d31-4171-a3c1-e8653ae23968"
      },
      "execution_count": 29,
      "outputs": [
        {
          "output_type": "execute_result",
          "data": {
            "text/plain": [
              "'そてつ'"
            ],
            "application/vnd.google.colaboratory.intrinsic+json": {
              "type": "string"
            }
          },
          "metadata": {},
          "execution_count": 29
        }
      ]
    },
    {
      "cell_type": "code",
      "source": [
        "#販売方法\n",
        "sales_method =  table.find(\"td\",class_=\"kekka-page-kak-hanbai-zen\").text\n",
        "sales_method"
      ],
      "metadata": {
        "colab": {
          "base_uri": "https://localhost:8080/",
          "height": 34
        },
        "id": "0d4nfeiYPwwl",
        "outputId": "4331719b-afd6-443f-d6e8-e164113b1404"
      },
      "execution_count": 30,
      "outputs": [
        {
          "output_type": "execute_result",
          "data": {
            "text/plain": [
              "'せり・入札'"
            ],
            "application/vnd.google.colaboratory.intrinsic+json": {
              "type": "string"
            }
          },
          "metadata": {},
          "execution_count": 30
        }
      ]
    },
    {
      "cell_type": "code",
      "source": [
        "#卸売数量\n",
        "wholesale_quantity = table.find_all(\"td\",class_=\"kekka-page-kak-num-zen\")[0].text\n",
        "if wholesale_quantity==\"−\":\n",
        "  wholesale_quantity = 0\n",
        "elif \",\" in wholesale_quantity:\n",
        "  wholesale_quantity = int(wholesale_quantity.replace(\",\",\"\"))\n",
        "else:\n",
        "  wholesale_quantity = int(wholesale_quantity)\n",
        "wholesale_quantity"
      ],
      "metadata": {
        "colab": {
          "base_uri": "https://localhost:8080/"
        },
        "id": "17XSGxQdR1al",
        "outputId": "b5647671-ac3c-4c3b-aeeb-47ce176e32e5"
      },
      "execution_count": 31,
      "outputs": [
        {
          "output_type": "execute_result",
          "data": {
            "text/plain": [
              "800"
            ]
          },
          "metadata": {},
          "execution_count": 31
        }
      ]
    },
    {
      "cell_type": "code",
      "source": [
        "#北足立\n",
        "north_adachi_quantity = table.find_all(\"td\",class_=\"kekka-page-kak-num-zen\")[1].text\n",
        "if north_adachi_quantity == \"−\":\n",
        "  north_adachi_quantity = 0 \n",
        "elif \",\" in north_adachi_quantity:\n",
        "  north_adachi_quantity = int(north_adachi_quantity.replace(\",\",\"\"))\n",
        "else:\n",
        "  north_adachi_quantity = int(north_adachi_quantity)\n",
        "north_adachi_quantity"
      ],
      "metadata": {
        "colab": {
          "base_uri": "https://localhost:8080/"
        },
        "id": "bebrGDhiR6XL",
        "outputId": "3f85d503-5299-41b1-faca-d47539eaaf25"
      },
      "execution_count": 32,
      "outputs": [
        {
          "output_type": "execute_result",
          "data": {
            "text/plain": [
              "100"
            ]
          },
          "metadata": {},
          "execution_count": 32
        }
      ]
    },
    {
      "cell_type": "code",
      "source": [
        "#大田\n",
        "ota_quantity  = table.find_all(\"td\",class_=\"kekka-page-kak-num-zen\")[2].text\n",
        "if ota_quantity == \"−\":\n",
        "  ota_quantity = 0\n",
        "elif \",\" in ota_quantity:\n",
        "  ota_quantity = int(ota_quantity.replace(\",\",\"\"))\n",
        "else:\n",
        "  ota_quantity = int(ota_quantity)\n",
        "ota_quantity"
      ],
      "metadata": {
        "colab": {
          "base_uri": "https://localhost:8080/"
        },
        "id": "gHghqWycVZWe",
        "outputId": "a9cbb2a3-1423-407b-d6e3-430bd747278a"
      },
      "execution_count": 33,
      "outputs": [
        {
          "output_type": "execute_result",
          "data": {
            "text/plain": [
              "500"
            ]
          },
          "metadata": {},
          "execution_count": 33
        }
      ]
    },
    {
      "cell_type": "code",
      "source": [
        "#板橋\n",
        "#値がない場合、\"-\"と返ってくる \n",
        "#この場合、整数0を返すような仕組みが必要（いつ何時この値が0になるかわからないので）\n",
        "itabashi_quantity = table.find_all(\"td\",class_=\"kekka-page-kak-num-zen\")[3].text \n",
        "if itabashi_quantity == \"−\":\n",
        "  itabashi_quantity = 0\n",
        "elif \",\" in itabashi_quantity:\n",
        "  itabashi_quantity = int(itabashi_quantity.replace(\",\",\"\"))\n",
        "else:\n",
        "  itabashi_quantity =int(itabashi_quantity)\n",
        "itabashi_quantity"
      ],
      "metadata": {
        "colab": {
          "base_uri": "https://localhost:8080/"
        },
        "id": "554ySkMyU884",
        "outputId": "eb023eb0-ce46-4da4-dd5c-969542524e27"
      },
      "execution_count": 34,
      "outputs": [
        {
          "output_type": "execute_result",
          "data": {
            "text/plain": [
              "0"
            ]
          },
          "metadata": {},
          "execution_count": 34
        }
      ]
    },
    {
      "cell_type": "code",
      "source": [
        "#葛西\n",
        "kasai_quantity  = table.find_all(\"td\",class_=\"kekka-page-kak-num-zen\")[4].text\n",
        "if kasai_quantity == \"−\":\n",
        "  kasai_quantity = 0\n",
        "elif \",\" in kasai_quantity:\n",
        "  kasai_quantity = int(kasai_quantity.replace(\",\",\"\"))\n",
        "else:\n",
        "  kasai_quantity = int(kasai_quantity)\n",
        "kasai_quantity "
      ],
      "metadata": {
        "colab": {
          "base_uri": "https://localhost:8080/"
        },
        "id": "pe0Y3N7zSS98",
        "outputId": "a88e79b2-00bc-4627-d900-85a106828d15"
      },
      "execution_count": 35,
      "outputs": [
        {
          "output_type": "execute_result",
          "data": {
            "text/plain": [
              "200"
            ]
          },
          "metadata": {},
          "execution_count": 35
        }
      ]
    },
    {
      "cell_type": "code",
      "source": [
        "#世田谷\n",
        "setagaya_quantity  = table.find_all(\"td\",class_=\"kekka-page-kak-num-zen\")[5].text\n",
        "if setagaya_quantity == \"−\":\n",
        "  setagaya_quantity = 0\n",
        "elif \",\" in setagaya_quantity:\n",
        "  setagaya_quantity = int(setagaya_quantity.replace(\",\",\"\"))\n",
        "else:\n",
        "  setagaya_quantity = int(setagaya_quantity) \n",
        "setagaya_quantity "
      ],
      "metadata": {
        "colab": {
          "base_uri": "https://localhost:8080/"
        },
        "id": "NzNkridZSbXI",
        "outputId": "d12e2cc1-fcb5-4ab4-ea44-38f4559ea6df"
      },
      "execution_count": 36,
      "outputs": [
        {
          "output_type": "execute_result",
          "data": {
            "text/plain": [
              "0"
            ]
          },
          "metadata": {},
          "execution_count": 36
        }
      ]
    },
    {
      "cell_type": "code",
      "source": [
        "dataframe_value = {\n",
        "    \"日付\":datetime_converted,\n",
        "    \"分類\":classification,\n",
        "    \"品名\":flower_name,\n",
        "    \"販売方法\":sales_method,\n",
        "    \"卸売数量\":wholesale_quantity,\n",
        "    \"北足立\":north_adachi_quantity,\n",
        "    \"大田\":ota_quantity,\n",
        "    \"板橋\":itabashi_quantity,\n",
        "    \"葛西\":kasai_quantity,\n",
        "    \"世田谷\":setagaya_quantity\n",
        "}\n",
        "data_list=[]\n",
        "data_list.append(dataframe_value)\n",
        "df = pd.DataFrame(data_list)\n",
        "df"
      ],
      "metadata": {
        "colab": {
          "base_uri": "https://localhost:8080/",
          "height": 81
        },
        "id": "7p5ShmB-Siih",
        "outputId": "b5410d2c-c07b-41e8-b07b-4640a6aba0a6"
      },
      "execution_count": 37,
      "outputs": [
        {
          "output_type": "execute_result",
          "data": {
            "text/plain": [
              "           日付        分類   品名   販売方法  卸売数量  北足立   大田  板橋   葛西  世田谷\n",
              "0  2022-08-31  切葉（単位：枚）  そてつ  せり・入札   800  100  500   0  200    0"
            ],
            "text/html": [
              "\n",
              "  <div id=\"df-3445c1c3-181f-4dd3-8565-05385b55c231\">\n",
              "    <div class=\"colab-df-container\">\n",
              "      <div>\n",
              "<style scoped>\n",
              "    .dataframe tbody tr th:only-of-type {\n",
              "        vertical-align: middle;\n",
              "    }\n",
              "\n",
              "    .dataframe tbody tr th {\n",
              "        vertical-align: top;\n",
              "    }\n",
              "\n",
              "    .dataframe thead th {\n",
              "        text-align: right;\n",
              "    }\n",
              "</style>\n",
              "<table border=\"1\" class=\"dataframe\">\n",
              "  <thead>\n",
              "    <tr style=\"text-align: right;\">\n",
              "      <th></th>\n",
              "      <th>日付</th>\n",
              "      <th>分類</th>\n",
              "      <th>品名</th>\n",
              "      <th>販売方法</th>\n",
              "      <th>卸売数量</th>\n",
              "      <th>北足立</th>\n",
              "      <th>大田</th>\n",
              "      <th>板橋</th>\n",
              "      <th>葛西</th>\n",
              "      <th>世田谷</th>\n",
              "    </tr>\n",
              "  </thead>\n",
              "  <tbody>\n",
              "    <tr>\n",
              "      <th>0</th>\n",
              "      <td>2022-08-31</td>\n",
              "      <td>切葉（単位：枚）</td>\n",
              "      <td>そてつ</td>\n",
              "      <td>せり・入札</td>\n",
              "      <td>800</td>\n",
              "      <td>100</td>\n",
              "      <td>500</td>\n",
              "      <td>0</td>\n",
              "      <td>200</td>\n",
              "      <td>0</td>\n",
              "    </tr>\n",
              "  </tbody>\n",
              "</table>\n",
              "</div>\n",
              "      <button class=\"colab-df-convert\" onclick=\"convertToInteractive('df-3445c1c3-181f-4dd3-8565-05385b55c231')\"\n",
              "              title=\"Convert this dataframe to an interactive table.\"\n",
              "              style=\"display:none;\">\n",
              "        \n",
              "  <svg xmlns=\"http://www.w3.org/2000/svg\" height=\"24px\"viewBox=\"0 0 24 24\"\n",
              "       width=\"24px\">\n",
              "    <path d=\"M0 0h24v24H0V0z\" fill=\"none\"/>\n",
              "    <path d=\"M18.56 5.44l.94 2.06.94-2.06 2.06-.94-2.06-.94-.94-2.06-.94 2.06-2.06.94zm-11 1L8.5 8.5l.94-2.06 2.06-.94-2.06-.94L8.5 2.5l-.94 2.06-2.06.94zm10 10l.94 2.06.94-2.06 2.06-.94-2.06-.94-.94-2.06-.94 2.06-2.06.94z\"/><path d=\"M17.41 7.96l-1.37-1.37c-.4-.4-.92-.59-1.43-.59-.52 0-1.04.2-1.43.59L10.3 9.45l-7.72 7.72c-.78.78-.78 2.05 0 2.83L4 21.41c.39.39.9.59 1.41.59.51 0 1.02-.2 1.41-.59l7.78-7.78 2.81-2.81c.8-.78.8-2.07 0-2.86zM5.41 20L4 18.59l7.72-7.72 1.47 1.35L5.41 20z\"/>\n",
              "  </svg>\n",
              "      </button>\n",
              "      \n",
              "  <style>\n",
              "    .colab-df-container {\n",
              "      display:flex;\n",
              "      flex-wrap:wrap;\n",
              "      gap: 12px;\n",
              "    }\n",
              "\n",
              "    .colab-df-convert {\n",
              "      background-color: #E8F0FE;\n",
              "      border: none;\n",
              "      border-radius: 50%;\n",
              "      cursor: pointer;\n",
              "      display: none;\n",
              "      fill: #1967D2;\n",
              "      height: 32px;\n",
              "      padding: 0 0 0 0;\n",
              "      width: 32px;\n",
              "    }\n",
              "\n",
              "    .colab-df-convert:hover {\n",
              "      background-color: #E2EBFA;\n",
              "      box-shadow: 0px 1px 2px rgba(60, 64, 67, 0.3), 0px 1px 3px 1px rgba(60, 64, 67, 0.15);\n",
              "      fill: #174EA6;\n",
              "    }\n",
              "\n",
              "    [theme=dark] .colab-df-convert {\n",
              "      background-color: #3B4455;\n",
              "      fill: #D2E3FC;\n",
              "    }\n",
              "\n",
              "    [theme=dark] .colab-df-convert:hover {\n",
              "      background-color: #434B5C;\n",
              "      box-shadow: 0px 1px 3px 1px rgba(0, 0, 0, 0.15);\n",
              "      filter: drop-shadow(0px 1px 2px rgba(0, 0, 0, 0.3));\n",
              "      fill: #FFFFFF;\n",
              "    }\n",
              "  </style>\n",
              "\n",
              "      <script>\n",
              "        const buttonEl =\n",
              "          document.querySelector('#df-3445c1c3-181f-4dd3-8565-05385b55c231 button.colab-df-convert');\n",
              "        buttonEl.style.display =\n",
              "          google.colab.kernel.accessAllowed ? 'block' : 'none';\n",
              "\n",
              "        async function convertToInteractive(key) {\n",
              "          const element = document.querySelector('#df-3445c1c3-181f-4dd3-8565-05385b55c231');\n",
              "          const dataTable =\n",
              "            await google.colab.kernel.invokeFunction('convertToInteractive',\n",
              "                                                     [key], {});\n",
              "          if (!dataTable) return;\n",
              "\n",
              "          const docLinkHtml = 'Like what you see? Visit the ' +\n",
              "            '<a target=\"_blank\" href=https://colab.research.google.com/notebooks/data_table.ipynb>data table notebook</a>'\n",
              "            + ' to learn more about interactive tables.';\n",
              "          element.innerHTML = '';\n",
              "          dataTable['output_type'] = 'display_data';\n",
              "          await google.colab.output.renderOutput(dataTable, element);\n",
              "          const docLink = document.createElement('div');\n",
              "          docLink.innerHTML = docLinkHtml;\n",
              "          element.appendChild(docLink);\n",
              "        }\n",
              "      </script>\n",
              "    </div>\n",
              "  </div>\n",
              "  "
            ]
          },
          "metadata": {},
          "execution_count": 37
        }
      ]
    },
    {
      "cell_type": "markdown",
      "source": [
        "# URLを取得する"
      ],
      "metadata": {
        "id": "Rmlwgf0x8xrH"
      }
    },
    {
      "cell_type": "code",
      "source": [
        "import requests\n",
        "from bs4 import BeautifulSoup\n",
        "from time import sleep\n",
        "import datetime \n",
        "import pandas as pd\n",
        "import re\n",
        "#URL取得\n",
        "URL=\"https://www.shijou-nippo.metro.tokyo.lg.jp/SN/202208/20220831/Kak/SN_Kak_Zen_index.html\"\n",
        "response=requests.get(URL)\n",
        "response"
      ],
      "metadata": {
        "id": "584WwzDdUpTw",
        "colab": {
          "base_uri": "https://localhost:8080/"
        },
        "outputId": "2aa62a5c-4489-44c3-d578-5e15a70d1571"
      },
      "execution_count": 38,
      "outputs": [
        {
          "output_type": "execute_result",
          "data": {
            "text/plain": [
              "<Response [200]>"
            ]
          },
          "metadata": {},
          "execution_count": 38
        }
      ]
    },
    {
      "cell_type": "code",
      "source": [
        "import datetime\n",
        "now = datetime.datetime.now()\n",
        "yyyymm = now.strftime(\"%Y%m\")\n",
        "yyyymmdd = now.strftime(\"%Y%m%d\")\n",
        "url = f\"https://www.shijou-nippo.metro.tokyo.lg.jp/SN/{yyyymm}/{yyyymmdd}/Kak/SN_Kak_Zen_index.html\"\n",
        "url"
      ],
      "metadata": {
        "colab": {
          "base_uri": "https://localhost:8080/",
          "height": 34
        },
        "id": "TKx8-fop82s7",
        "outputId": "0a480bcb-a642-4a6b-d080-db37e5bcd4fc"
      },
      "execution_count": 44,
      "outputs": [
        {
          "output_type": "execute_result",
          "data": {
            "text/plain": [
              "'https://www.shijou-nippo.metro.tokyo.lg.jp/SN/202209/20220905/Kak/SN_Kak_Zen_index.html'"
            ],
            "application/vnd.google.colaboratory.intrinsic+json": {
              "type": "string"
            }
          },
          "metadata": {},
          "execution_count": 44
        }
      ]
    },
    {
      "cell_type": "code",
      "source": [
        "import datetime\n",
        "now = datetime.datetime.now()\n",
        "yyyymm = now.strftime(\"%Y%m\")\n",
        "yyyymmdd = now.strftime(\"%Y%m%d\")"
      ],
      "metadata": {
        "id": "3uZINE3a9qm9"
      },
      "execution_count": 43,
      "outputs": []
    },
    {
      "cell_type": "code",
      "source": [
        "yyyymm"
      ],
      "metadata": {
        "colab": {
          "base_uri": "https://localhost:8080/",
          "height": 34
        },
        "id": "7CbtPke69tJM",
        "outputId": "52344a6b-742e-4a7e-f9f3-4ccef40d13f7"
      },
      "execution_count": 45,
      "outputs": [
        {
          "output_type": "execute_result",
          "data": {
            "text/plain": [
              "'202209'"
            ],
            "application/vnd.google.colaboratory.intrinsic+json": {
              "type": "string"
            }
          },
          "metadata": {},
          "execution_count": 45
        }
      ]
    },
    {
      "cell_type": "code",
      "source": [
        "yyyymmdd"
      ],
      "metadata": {
        "colab": {
          "base_uri": "https://localhost:8080/",
          "height": 34
        },
        "id": "8DPd9nQ1-B6f",
        "outputId": "6f5500b2-34bf-4f24-c7dc-4c8154d95c1c"
      },
      "execution_count": 46,
      "outputs": [
        {
          "output_type": "execute_result",
          "data": {
            "text/plain": [
              "'20220905'"
            ],
            "application/vnd.google.colaboratory.intrinsic+json": {
              "type": "string"
            }
          },
          "metadata": {},
          "execution_count": 46
        }
      ]
    },
    {
      "cell_type": "code",
      "source": [
        "date_tuple = [\n",
        "    (\"202209\",\"20220905\"),\n",
        "    (\"202209\",\"20220906\")\n",
        "    ]\n",
        "date_tuple"
      ],
      "metadata": {
        "colab": {
          "base_uri": "https://localhost:8080/"
        },
        "id": "AB2_Vb9DBzsK",
        "outputId": "40454b32-e836-43a9-baf0-044745cf11a7"
      },
      "execution_count": 54,
      "outputs": [
        {
          "output_type": "execute_result",
          "data": {
            "text/plain": [
              "[('202209', '20220905'), ('202209', '20220906')]"
            ]
          },
          "metadata": {},
          "execution_count": 54
        }
      ]
    },
    {
      "cell_type": "code",
      "source": [
        "for i,j in date_tuple:\n",
        "  url = f\"https://www.shijou-nippo.metro.tokyo.lg.jp/SN/{i}/{j}/Kak/SN_Kak_Zen_index.html\"\n",
        "  print(url)"
      ],
      "metadata": {
        "colab": {
          "base_uri": "https://localhost:8080/"
        },
        "id": "dns8kmlrCUqR",
        "outputId": "569c3011-a459-494c-8402-82720e9b7b67"
      },
      "execution_count": 55,
      "outputs": [
        {
          "output_type": "stream",
          "name": "stdout",
          "text": [
            "https://www.shijou-nippo.metro.tokyo.lg.jp/SN/202209/20220905/Kak/SN_Kak_Zen_index.html\n",
            "https://www.shijou-nippo.metro.tokyo.lg.jp/SN/202209/20220906/Kak/SN_Kak_Zen_index.html\n"
          ]
        }
      ]
    },
    {
      "cell_type": "code",
      "source": [
        "from datetime import datetime, timedelta\n",
        "yesterday = datetime.datetime.now()- timedelta(1)\n",
        "yesterday_yyyymm = yesterday.strftime(\"%Y%m\")\n",
        "yesterday_yyyymm"
      ],
      "metadata": {
        "colab": {
          "base_uri": "https://localhost:8080/",
          "height": 221
        },
        "id": "3y42Nsx1-I8X",
        "outputId": "8e04b79b-8c22-4703-976d-15023303a5c3"
      },
      "execution_count": 50,
      "outputs": [
        {
          "output_type": "error",
          "ename": "AttributeError",
          "evalue": "ignored",
          "traceback": [
            "\u001b[0;31m---------------------------------------------------------------------------\u001b[0m",
            "\u001b[0;31mAttributeError\u001b[0m                            Traceback (most recent call last)",
            "\u001b[0;32m<ipython-input-50-f9d75cd0686f>\u001b[0m in \u001b[0;36m<module>\u001b[0;34m\u001b[0m\n\u001b[1;32m      1\u001b[0m \u001b[0;32mfrom\u001b[0m \u001b[0mdatetime\u001b[0m \u001b[0;32mimport\u001b[0m \u001b[0mdatetime\u001b[0m\u001b[0;34m,\u001b[0m \u001b[0mtimedelta\u001b[0m\u001b[0;34m\u001b[0m\u001b[0;34m\u001b[0m\u001b[0m\n\u001b[0;32m----> 2\u001b[0;31m \u001b[0myesterday\u001b[0m \u001b[0;34m=\u001b[0m \u001b[0mdatetime\u001b[0m\u001b[0;34m.\u001b[0m\u001b[0mdatetime\u001b[0m\u001b[0;34m.\u001b[0m\u001b[0mnow\u001b[0m\u001b[0;34m(\u001b[0m\u001b[0;34m)\u001b[0m\u001b[0;34m-\u001b[0m \u001b[0mtimedelta\u001b[0m\u001b[0;34m(\u001b[0m\u001b[0;36m1\u001b[0m\u001b[0;34m)\u001b[0m\u001b[0;34m\u001b[0m\u001b[0;34m\u001b[0m\u001b[0m\n\u001b[0m\u001b[1;32m      3\u001b[0m \u001b[0myesterday_yyyymm\u001b[0m \u001b[0;34m=\u001b[0m \u001b[0myesterday\u001b[0m\u001b[0;34m.\u001b[0m\u001b[0mstrftime\u001b[0m\u001b[0;34m(\u001b[0m\u001b[0;34m\"%Y%m\"\u001b[0m\u001b[0;34m)\u001b[0m\u001b[0;34m\u001b[0m\u001b[0;34m\u001b[0m\u001b[0m\n\u001b[1;32m      4\u001b[0m \u001b[0myesterday_yyyymm\u001b[0m\u001b[0;34m\u001b[0m\u001b[0;34m\u001b[0m\u001b[0m\n",
            "\u001b[0;31mAttributeError\u001b[0m: type object 'datetime.datetime' has no attribute 'datetime'"
          ]
        }
      ]
    },
    {
      "cell_type": "code",
      "source": [
        "from datetime import datetime, timedelta\n",
        "\n",
        "nowadays = datetime.now()\n",
        "\n",
        "yesterday = nowadays - timedelta(1)\n",
        "yesterday"
      ],
      "metadata": {
        "colab": {
          "base_uri": "https://localhost:8080/"
        },
        "id": "DFJR6waL_WOT",
        "outputId": "58b18e3b-28b4-4619-948d-ae218cc757d5"
      },
      "execution_count": 51,
      "outputs": [
        {
          "output_type": "execute_result",
          "data": {
            "text/plain": [
              "datetime.datetime(2022, 9, 4, 23, 35, 19, 803938)"
            ]
          },
          "metadata": {},
          "execution_count": 51
        }
      ]
    },
    {
      "cell_type": "code",
      "source": [
        "import calendar\n",
        "\n",
        "print(calendar.month(2019, 1))"
      ],
      "metadata": {
        "colab": {
          "base_uri": "https://localhost:8080/"
        },
        "id": "BEt-Gwr2AiLi",
        "outputId": "9971a80f-e4a0-40a1-a88d-2606f5f2469b"
      },
      "execution_count": 52,
      "outputs": [
        {
          "output_type": "stream",
          "name": "stdout",
          "text": [
            "    January 2019\n",
            "Mo Tu We Th Fr Sa Su\n",
            "    1  2  3  4  5  6\n",
            " 7  8  9 10 11 12 13\n",
            "14 15 16 17 18 19 20\n",
            "21 22 23 24 25 26 27\n",
            "28 29 30 31\n",
            "\n"
          ]
        }
      ]
    }
  ]
}