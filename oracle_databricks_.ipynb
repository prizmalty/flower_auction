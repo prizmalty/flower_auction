{
  "nbformat": 4,
  "nbformat_minor": 0,
  "metadata": {
    "colab": {
      "provenance": [],
      "authorship_tag": "ABX9TyNrFda3JrO7nPSRuizE6wDA",
      "include_colab_link": true
    },
    "kernelspec": {
      "name": "python3",
      "display_name": "Python 3"
    },
    "language_info": {
      "name": "python"
    }
  },
  "cells": [
    {
      "cell_type": "markdown",
      "metadata": {
        "id": "view-in-github",
        "colab_type": "text"
      },
      "source": [
        "<a href=\"https://colab.research.google.com/github/prizmalty/flower_auction/blob/main/oracle_databricks_.ipynb\" target=\"_parent\"><img src=\"https://colab.research.google.com/assets/colab-badge.svg\" alt=\"Open In Colab\"/></a>"
      ]
    },
    {
      "cell_type": "code",
      "execution_count": null,
      "metadata": {
        "colab": {
          "base_uri": "https://localhost:8080/"
        },
        "id": "avgnqU5_7BSf",
        "outputId": "7f17e75e-2070-4d1d-d132-4317b1752d6c"
      },
      "outputs": [
        {
          "output_type": "stream",
          "name": "stdout",
          "text": [
            "Looking in indexes: https://pypi.org/simple, https://us-python.pkg.dev/colab-wheels/public/simple/\n",
            "Collecting pyspark\n",
            "  Downloading pyspark-3.3.1.tar.gz (281.4 MB)\n",
            "\u001b[K     |████████████████████████████████| 281.4 MB 42 kB/s \n",
            "\u001b[?25hCollecting py4j==0.10.9.5\n",
            "  Downloading py4j-0.10.9.5-py2.py3-none-any.whl (199 kB)\n",
            "\u001b[K     |████████████████████████████████| 199 kB 43.4 MB/s \n",
            "\u001b[?25hBuilding wheels for collected packages: pyspark\n",
            "  Building wheel for pyspark (setup.py) ... \u001b[?25l\u001b[?25hdone\n",
            "  Created wheel for pyspark: filename=pyspark-3.3.1-py2.py3-none-any.whl size=281845513 sha256=83cb4619f0b8d91c532dad1ff1e73c156e2fbc477ba6242bcc321cd231405233\n",
            "  Stored in directory: /root/.cache/pip/wheels/42/59/f5/79a5bf931714dcd201b26025347785f087370a10a3329a899c\n",
            "Successfully built pyspark\n",
            "Installing collected packages: py4j, pyspark\n",
            "Successfully installed py4j-0.10.9.5 pyspark-3.3.1\n"
          ]
        }
      ],
      "source": [
        "!pip install pyspark"
      ]
    },
    {
      "cell_type": "code",
      "source": [
        "from pyspark.sql import SparkSession \n",
        "spark = SparkSession.builder \\\n",
        "    .master(\"local[1]\") \\\n",
        "    .appName(\"IAB\") \\\n",
        "    .getOrCreate()"
      ],
      "metadata": {
        "id": "aM9t3uo07Wzg"
      },
      "execution_count": null,
      "outputs": []
    },
    {
      "cell_type": "code",
      "source": [
        "oracle_databricks_schema_data = [\n",
        "    {\"oracle_datatype\": \"CHAR\", \"databricks_datatype\": \"String\"},\n",
        "    {\"oracle_datatype\": \"VARCHAR\", \"databricks_datatype\": \"String\"},\n",
        "]\n",
        "\n",
        "oracle_databricks_schema_sdf = spark.createDataFrame(oracle_databricks_schema_data)\n",
        "oracle_databricks_schema_sdf.show()"
      ],
      "metadata": {
        "colab": {
          "base_uri": "https://localhost:8080/"
        },
        "id": "a397fpC37YN3",
        "outputId": "8d33f7ca-1811-4065-eca0-16eea66689ba"
      },
      "execution_count": null,
      "outputs": [
        {
          "output_type": "stream",
          "name": "stdout",
          "text": [
            "+-------------------+---------------+\n",
            "|databricks_datatype|oracle_datatype|\n",
            "+-------------------+---------------+\n",
            "|             String|           CHAR|\n",
            "|             String|        VARCHAR|\n",
            "+-------------------+---------------+\n",
            "\n"
          ]
        }
      ]
    },
    {
      "cell_type": "code",
      "source": [
        "oracle_raw_datatype_data = [\n",
        "    {\"COLUMN_NAME\":\"member_id\",\"oracle_datatype\":\"VARCHAR\",\"databricks_datatype\":\"string\"},\n",
        "    {\"COLUMN_NAME\":\"sales\",\"oracle_datatype\":\"INTEGER\",\"databricks_datatype\":\"integer\"},\n",
        "] \n",
        "oracle_raw_datatype_data_sdf = spark.createDataFrame(oracle_raw_datatype_data)\n",
        "oracle_raw_datatype_data_sdf.show()"
      ],
      "metadata": {
        "colab": {
          "base_uri": "https://localhost:8080/"
        },
        "id": "MpEMaaq_9oDf",
        "outputId": "2cbb4816-d03e-4bfe-cdc6-8f74f2ba0960"
      },
      "execution_count": null,
      "outputs": [
        {
          "output_type": "stream",
          "name": "stdout",
          "text": [
            "+-----------+-------------------+---------------+\n",
            "|COLUMN_NAME|databricks_datatype|oracle_datatype|\n",
            "+-----------+-------------------+---------------+\n",
            "|  member_id|             string|        VARCHAR|\n",
            "|      sales|            integer|        INTEGER|\n",
            "+-----------+-------------------+---------------+\n",
            "\n"
          ]
        }
      ]
    },
    {
      "cell_type": "code",
      "source": [
        "oracle_raw_datatype_data_pdf = oracle_raw_datatype_data_sdf.toPandas()\n",
        "oracle_raw_datatype_data_pdf.head()"
      ],
      "metadata": {
        "colab": {
          "base_uri": "https://localhost:8080/",
          "height": 112
        },
        "id": "cGvJSf6EASqq",
        "outputId": "e5e6637b-2002-4ab3-e7f9-e166d6519b6f"
      },
      "execution_count": null,
      "outputs": [
        {
          "output_type": "execute_result",
          "data": {
            "text/plain": [
              "  COLUMN_NAME databricks_datatype oracle_datatype\n",
              "0   member_id              string         VARCHAR\n",
              "1       sales             integer         INTEGER"
            ],
            "text/html": [
              "\n",
              "  <div id=\"df-adb5afb1-ef42-49f3-a79d-c938aafff620\">\n",
              "    <div class=\"colab-df-container\">\n",
              "      <div>\n",
              "<style scoped>\n",
              "    .dataframe tbody tr th:only-of-type {\n",
              "        vertical-align: middle;\n",
              "    }\n",
              "\n",
              "    .dataframe tbody tr th {\n",
              "        vertical-align: top;\n",
              "    }\n",
              "\n",
              "    .dataframe thead th {\n",
              "        text-align: right;\n",
              "    }\n",
              "</style>\n",
              "<table border=\"1\" class=\"dataframe\">\n",
              "  <thead>\n",
              "    <tr style=\"text-align: right;\">\n",
              "      <th></th>\n",
              "      <th>COLUMN_NAME</th>\n",
              "      <th>databricks_datatype</th>\n",
              "      <th>oracle_datatype</th>\n",
              "    </tr>\n",
              "  </thead>\n",
              "  <tbody>\n",
              "    <tr>\n",
              "      <th>0</th>\n",
              "      <td>member_id</td>\n",
              "      <td>string</td>\n",
              "      <td>VARCHAR</td>\n",
              "    </tr>\n",
              "    <tr>\n",
              "      <th>1</th>\n",
              "      <td>sales</td>\n",
              "      <td>integer</td>\n",
              "      <td>INTEGER</td>\n",
              "    </tr>\n",
              "  </tbody>\n",
              "</table>\n",
              "</div>\n",
              "      <button class=\"colab-df-convert\" onclick=\"convertToInteractive('df-adb5afb1-ef42-49f3-a79d-c938aafff620')\"\n",
              "              title=\"Convert this dataframe to an interactive table.\"\n",
              "              style=\"display:none;\">\n",
              "        \n",
              "  <svg xmlns=\"http://www.w3.org/2000/svg\" height=\"24px\"viewBox=\"0 0 24 24\"\n",
              "       width=\"24px\">\n",
              "    <path d=\"M0 0h24v24H0V0z\" fill=\"none\"/>\n",
              "    <path d=\"M18.56 5.44l.94 2.06.94-2.06 2.06-.94-2.06-.94-.94-2.06-.94 2.06-2.06.94zm-11 1L8.5 8.5l.94-2.06 2.06-.94-2.06-.94L8.5 2.5l-.94 2.06-2.06.94zm10 10l.94 2.06.94-2.06 2.06-.94-2.06-.94-.94-2.06-.94 2.06-2.06.94z\"/><path d=\"M17.41 7.96l-1.37-1.37c-.4-.4-.92-.59-1.43-.59-.52 0-1.04.2-1.43.59L10.3 9.45l-7.72 7.72c-.78.78-.78 2.05 0 2.83L4 21.41c.39.39.9.59 1.41.59.51 0 1.02-.2 1.41-.59l7.78-7.78 2.81-2.81c.8-.78.8-2.07 0-2.86zM5.41 20L4 18.59l7.72-7.72 1.47 1.35L5.41 20z\"/>\n",
              "  </svg>\n",
              "      </button>\n",
              "      \n",
              "  <style>\n",
              "    .colab-df-container {\n",
              "      display:flex;\n",
              "      flex-wrap:wrap;\n",
              "      gap: 12px;\n",
              "    }\n",
              "\n",
              "    .colab-df-convert {\n",
              "      background-color: #E8F0FE;\n",
              "      border: none;\n",
              "      border-radius: 50%;\n",
              "      cursor: pointer;\n",
              "      display: none;\n",
              "      fill: #1967D2;\n",
              "      height: 32px;\n",
              "      padding: 0 0 0 0;\n",
              "      width: 32px;\n",
              "    }\n",
              "\n",
              "    .colab-df-convert:hover {\n",
              "      background-color: #E2EBFA;\n",
              "      box-shadow: 0px 1px 2px rgba(60, 64, 67, 0.3), 0px 1px 3px 1px rgba(60, 64, 67, 0.15);\n",
              "      fill: #174EA6;\n",
              "    }\n",
              "\n",
              "    [theme=dark] .colab-df-convert {\n",
              "      background-color: #3B4455;\n",
              "      fill: #D2E3FC;\n",
              "    }\n",
              "\n",
              "    [theme=dark] .colab-df-convert:hover {\n",
              "      background-color: #434B5C;\n",
              "      box-shadow: 0px 1px 3px 1px rgba(0, 0, 0, 0.15);\n",
              "      filter: drop-shadow(0px 1px 2px rgba(0, 0, 0, 0.3));\n",
              "      fill: #FFFFFF;\n",
              "    }\n",
              "  </style>\n",
              "\n",
              "      <script>\n",
              "        const buttonEl =\n",
              "          document.querySelector('#df-adb5afb1-ef42-49f3-a79d-c938aafff620 button.colab-df-convert');\n",
              "        buttonEl.style.display =\n",
              "          google.colab.kernel.accessAllowed ? 'block' : 'none';\n",
              "\n",
              "        async function convertToInteractive(key) {\n",
              "          const element = document.querySelector('#df-adb5afb1-ef42-49f3-a79d-c938aafff620');\n",
              "          const dataTable =\n",
              "            await google.colab.kernel.invokeFunction('convertToInteractive',\n",
              "                                                     [key], {});\n",
              "          if (!dataTable) return;\n",
              "\n",
              "          const docLinkHtml = 'Like what you see? Visit the ' +\n",
              "            '<a target=\"_blank\" href=https://colab.research.google.com/notebooks/data_table.ipynb>data table notebook</a>'\n",
              "            + ' to learn more about interactive tables.';\n",
              "          element.innerHTML = '';\n",
              "          dataTable['output_type'] = 'display_data';\n",
              "          await google.colab.output.renderOutput(dataTable, element);\n",
              "          const docLink = document.createElement('div');\n",
              "          docLink.innerHTML = docLinkHtml;\n",
              "          element.appendChild(docLink);\n",
              "        }\n",
              "      </script>\n",
              "    </div>\n",
              "  </div>\n",
              "  "
            ]
          },
          "metadata": {},
          "execution_count": 16
        }
      ]
    },
    {
      "cell_type": "code",
      "source": [
        "for item in zip(oracle_raw_datatype_data_pdf[\"COLUMN_NAME\"],oracle_raw_datatype_data_pdf[\"databricks_datatype\"]):\n",
        "    print(f\"\"\"{item[0]} {item[1]},\"\"\")"
      ],
      "metadata": {
        "colab": {
          "base_uri": "https://localhost:8080/"
        },
        "id": "LFDsbLNQAiVs",
        "outputId": "9e4defd0-8588-4d18-9ec3-f1d7dc25f181"
      },
      "execution_count": null,
      "outputs": [
        {
          "output_type": "stream",
          "name": "stdout",
          "text": [
            "member_id string,\n",
            "sales integer,\n"
          ]
        }
      ]
    },
    {
      "cell_type": "code",
      "source": [
        "for item in zip(oracle_raw_datatype_data_pdf[\"COLUMN_NAME\"],oracle_raw_datatype_data_pdf[\"databricks_datatype\"]):\n",
        "    data = f\"\"\"{item[0]} {item[1]}\"\"\"\n",
        "print(data)"
      ],
      "metadata": {
        "colab": {
          "base_uri": "https://localhost:8080/"
        },
        "id": "6hRcPsuXBV8C",
        "outputId": "e40a3056-9bbc-4f48-d354-9aedd0c29e3c"
      },
      "execution_count": null,
      "outputs": [
        {
          "output_type": "stream",
          "name": "stdout",
          "text": [
            "sales integer\n"
          ]
        }
      ]
    },
    {
      "cell_type": "code",
      "source": [
        "test_list = []\n",
        "for item in zip(oracle_raw_datatype_data_pdf[\"COLUMN_NAME\"],oracle_raw_datatype_data_pdf[\"databricks_datatype\"]):\n",
        "    data = f\"\"\"{item[0]} {item[1]}\"\"\"\n",
        "    test_list.append(data)\n",
        "test_list"
      ],
      "metadata": {
        "colab": {
          "base_uri": "https://localhost:8080/"
        },
        "id": "xEDxLzYoBgww",
        "outputId": "fcabd517-8e6f-4b79-84af-2f184b09ad24"
      },
      "execution_count": null,
      "outputs": [
        {
          "output_type": "execute_result",
          "data": {
            "text/plain": [
              "['member_id string', 'sales integer']"
            ]
          },
          "metadata": {},
          "execution_count": 21
        }
      ]
    },
    {
      "cell_type": "code",
      "source": [
        "for i in test_list:\n",
        "    print(i)"
      ],
      "metadata": {
        "colab": {
          "base_uri": "https://localhost:8080/"
        },
        "id": "7BLzuOnEBsRT",
        "outputId": "cee259a5-c6e2-45e4-b32a-55cbed58c4fd"
      },
      "execution_count": null,
      "outputs": [
        {
          "output_type": "stream",
          "name": "stdout",
          "text": [
            "member_id string\n",
            "sales integer\n"
          ]
        }
      ]
    },
    {
      "cell_type": "code",
      "source": [
        "data = \"\"\n",
        "for i,item in enumerate(zip(oracle_raw_datatype_data_pdf[\"COLUMN_NAME\"],oracle_raw_datatype_data_pdf[\"databricks_datatype\"])):\n",
        "    data = f\"\"\"{item[0]} {item[1]}\"\"\"\n",
        "    if len(oracle_raw_datatype_data_pdf)-1 !=i:\n",
        "        data += \",\"\n",
        "\n",
        "print(data)"
      ],
      "metadata": {
        "colab": {
          "base_uri": "https://localhost:8080/"
        },
        "id": "qIPxhqHqCWig",
        "outputId": "769e4f56-8226-4953-80d3-ec2bfaecf8a9"
      },
      "execution_count": null,
      "outputs": [
        {
          "output_type": "stream",
          "name": "stdout",
          "text": [
            "sales integer\n"
          ]
        }
      ]
    },
    {
      "cell_type": "code",
      "source": [
        "ddl_raw_data = \"\"\n",
        "for column_name,databricks_datatype in zip(oracle_raw_datatype_data_pdf[\"COLUMN_NAME\"],oracle_raw_datatype_data_pdf[\"databricks_datatype\"]):\n",
        "    ddl_raw_data += f\"\"\"{column_name} {databricks_datatype},\"\"\"\n",
        "\n",
        "ddl_format= ddl_raw_data.rstrip(\",\")\n",
        "print(ddl_format)"
      ],
      "metadata": {
        "colab": {
          "base_uri": "https://localhost:8080/"
        },
        "id": "ZkhV16e_DkOS",
        "outputId": "0c037c5d-69af-41f5-c131-2163bdede82d"
      },
      "execution_count": null,
      "outputs": [
        {
          "output_type": "stream",
          "name": "stdout",
          "text": [
            "member_id string,sales integer\n"
          ]
        }
      ]
    },
    {
      "cell_type": "code",
      "source": [
        "test_data = [\n",
        "    {\"member_id\":\"A1\",\"sales\":5},\n",
        "    {\"member_id\":\"A2\",\"sales\":10},\n",
        "    {\"member_id\":\"A3\",\"sales\":10}\n",
        "]\n",
        "\n",
        "test_sdf = spark.createDataFrame(test_data,ddl_format)\n",
        "test_sdf"
      ],
      "metadata": {
        "colab": {
          "base_uri": "https://localhost:8080/"
        },
        "id": "1QvpZBCM_6VT",
        "outputId": "c2ec0b6d-2ab9-4966-e2b9-1c48e5f812cb"
      },
      "execution_count": null,
      "outputs": [
        {
          "output_type": "execute_result",
          "data": {
            "text/plain": [
              "DataFrame[member_id: string, sales: int]"
            ]
          },
          "metadata": {},
          "execution_count": 36
        }
      ]
    }
  ]
}